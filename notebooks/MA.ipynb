{
 "cells": [
  {
   "cell_type": "code",
   "execution_count": 607,
   "metadata": {},
   "outputs": [],
   "source": [
    "import sys\n",
    "sys.path.append(\"../\")\n",
    "from lib.clean import standardize_desc_cols, clean_column_names\n",
    "from lib.uid import gen_uid"
   ]
  },
  {
   "cell_type": "code",
   "execution_count": 608,
   "metadata": {},
   "outputs": [],
   "source": [
    "import pandas as pd\n",
    "from datamatch import (\n",
    "    JaroWinklerSimilarity,\n",
    "    ThresholdMatcher,\n",
    "    ColumnsIndex,\n",
    ")"
   ]
  },
  {
   "cell_type": "code",
   "execution_count": 609,
   "metadata": {},
   "outputs": [],
   "source": [
    "def read_data():\n",
    "    df = pd.read_csv(\"../data/OK/aggregate_members_oathkeepers_cleaned.csv\")\n",
    "    return df "
   ]
  },
  {
   "cell_type": "code",
   "execution_count": 610,
   "metadata": {},
   "outputs": [],
   "source": [
    "dfa = read_data()"
   ]
  },
  {
   "cell_type": "code",
   "execution_count": 611,
   "metadata": {},
   "outputs": [],
   "source": [
    "dfa = dfa.fillna(\"\")"
   ]
  },
  {
   "cell_type": "code",
   "execution_count": 612,
   "metadata": {},
   "outputs": [],
   "source": [
    "dfa.loc[:, \"state\"] = dfa.state.str.lower().str.strip().str.replace(r\"ma\\.\", \"ma\", regex=True)"
   ]
  },
  {
   "cell_type": "code",
   "execution_count": 613,
   "metadata": {},
   "outputs": [
    {
     "data": {
      "text/plain": [
       "Index(['id_number', 'group_name', 'bool', 'city', 'state', 'email',\n",
       "       'undefined_date', 'notes', 'first_name', 'middle_name', 'last_name'],\n",
       "      dtype='object')"
      ]
     },
     "execution_count": 613,
     "metadata": {},
     "output_type": "execute_result"
    }
   ],
   "source": [
    "dfa.columns"
   ]
  },
  {
   "cell_type": "code",
   "execution_count": 614,
   "metadata": {},
   "outputs": [],
   "source": [
    "dfa = dfa[dfa.state.isin([\"ma\"])]\n",
    "dfa.loc[:, \"notes\"] = dfa.notes.str.lower().str.strip()\n",
    "dfa.loc[:, \"first_name\"] = dfa.first_name.str.replace(r\"^ (\\w+)\", r\"\\1\", regex=True).str.replace(r\"(\\w+) $\", r\"\\1\", regex=True)\n",
    "dfa.loc[:, \"last_name\"] = dfa.last_name.str.replace(r\"^ (\\w+)\", r\"\\1\", regex=True).str.replace(r\"(\\w+) $\", r\"\\1\", regex=True)\n",
    "dfa.loc[:, \"city\"] = dfa.city.str.lower().str.strip().str.replace(r\"\\,.+\", \"\", regex=True)"
   ]
  },
  {
   "cell_type": "code",
   "execution_count": 615,
   "metadata": {},
   "outputs": [
    {
     "data": {
      "text/plain": [
       "array(['ma'], dtype=object)"
      ]
     },
     "execution_count": 615,
     "metadata": {},
     "output_type": "execute_result"
    }
   ],
   "source": [
    "dfa.state.unique()"
   ]
  },
  {
   "cell_type": "code",
   "execution_count": null,
   "metadata": {},
   "outputs": [],
   "source": [
    "search_1 = dfa[dfa.notes.str.contains(\"law enforcement\")]\n",
    "search_1"
   ]
  },
  {
   "cell_type": "code",
   "execution_count": null,
   "metadata": {},
   "outputs": [],
   "source": [
    "search_2 = dfa[dfa.notes.str.contains(\"police\")]\n",
    "search_2"
   ]
  },
  {
   "cell_type": "code",
   "execution_count": null,
   "metadata": {},
   "outputs": [],
   "source": [
    "search_3 = dfa[dfa.notes.str.contains(\"patrol\")]\n",
    "search_3.notes.unique()"
   ]
  },
  {
   "cell_type": "code",
   "execution_count": null,
   "metadata": {},
   "outputs": [],
   "source": [
    "search_4 = dfa[dfa.notes.str.contains(\"officer\")]\n",
    "search_4.notes.unique()"
   ]
  },
  {
   "cell_type": "code",
   "execution_count": null,
   "metadata": {},
   "outputs": [],
   "source": [
    "search_5 = dfa[dfa.notes.str.contains(\"swat\")]\n",
    "search_5"
   ]
  },
  {
   "cell_type": "code",
   "execution_count": null,
   "metadata": {},
   "outputs": [],
   "source": [
    "search_6 = dfa[dfa.notes.str.contains(\"explosive\")]\n",
    "search_6"
   ]
  },
  {
   "cell_type": "code",
   "execution_count": null,
   "metadata": {},
   "outputs": [],
   "source": [
    "search_7 = dfa[dfa.notes.str.contains(\"bomb\")]\n",
    "search_7"
   ]
  },
  {
   "cell_type": "code",
   "execution_count": null,
   "metadata": {},
   "outputs": [],
   "source": [
    "search_8 = dfa[dfa.notes.str.contains(\"active duty\")]\n",
    "search_8.notes.unique()"
   ]
  },
  {
   "cell_type": "code",
   "execution_count": 624,
   "metadata": {},
   "outputs": [],
   "source": [
    "dfs = [search_1, search_2, search_3, search_4, search_5, search_6, search_7, search_8]\n",
    "dfb = pd.concat(dfs, axis=0)"
   ]
  },
  {
   "cell_type": "code",
   "execution_count": 625,
   "metadata": {},
   "outputs": [],
   "source": [
    "def read_misconduct_data():\n",
    "    df1 = pd.read_csv(\"../data/MA/misconduct/nacdl/billerica/ia/uof_billerica_2015_2020.csv\")\n",
    "    df1[\"agency\"] = \"billerica\"\n",
    "    df2 = pd.read_csv(\"../data/MA/misconduct/nacdl/Brookline/IIU/cprr_brookline_2010_2021.csv\")\n",
    "    df2[\"agency\"] = \"brookline\"\n",
    "    df3 = pd.read_csv(\"../data/MA/misconduct/nacdl/Chelmsford/IA/cprr_chelmsford_2015_2016.csv\")\n",
    "    df3[\"agency\"] = \"chelmsford\"\n",
    "    df4 = pd.read_csv(\"../data/MA/misconduct/nacdl/Dartmouth/IIU/cprr_dartmouth_2013_2022.csv\")\n",
    "    df4[\"agency\"] = \"dartmouth\"\n",
    "    df5 = pd.read_csv(\"../data/MA/misconduct/nacdl/Framingham/IIU/cprr_framingham_2011_2021.csv\")\n",
    "    df5[\"agency\"] = \"framingham\"\n",
    "    df6 = pd.read_csv(\"../data/MA/misconduct/nacdl/Milton/IA/cprr_milton_2010_2019.csv\")\n",
    "    df6[\"agency\"] = \"milton\"\n",
    "    df7 = pd.read_csv(\"../data/MA/misconduct/nacdl/Newton/IIU/cprr_newton_2010_2021.csv\")\n",
    "    df7[\"agency\"] = \"newton\"\n",
    "    df8 = pd.read_csv(\"../data/MA/misconduct/nacdl/Norwood/IIU/cprr_norwood_2011_2020.csv\")\n",
    "    df8[\"agency\"] = \"norwood\"\n",
    "    df9 = pd.read_csv(\"../data/MA/misconduct/nacdl/Quincy/IIU/cprr_quincy_2018_2020.csv\")\n",
    "    df9[\"agency\"] = \"quincy\"\n",
    "    df10 = pd.read_csv(\"../data/MA/misconduct/nacdl/Wellesley/IIU/cprr_wellesley_2010_2020.csv\")\n",
    "    df10[\"agency\"] = \"wellesley\"\n",
    "    df11 = pd.read_csv(\"../data/MA/misconduct/nacdl/Westfield/IIU/cprr_westfield_2010_2019.csv\")\n",
    "    df11[\"agency\"] = \"westfield\"\n",
    "    df12 = pd.read_csv(\"../data/MA/misconduct/nacdl/Weymouth/IIU/cprr_weymouth_2009_2020.csv\")\n",
    "    df12[\"agency\"] = \"weymouth\"\n",
    "    df13 = pd.read_csv(\"../data/MA/misconduct/nacdl/Woburn/IIU/cprr_woburn_2011_2021.csv\")\n",
    "    df13[\"agency\"] = \"woburn\"\n",
    "    return df1, df2, df3, df4, df5, df6, df7, df8, df9, df10, df11, df12, df13"
   ]
  },
  {
   "cell_type": "code",
   "execution_count": 626,
   "metadata": {},
   "outputs": [],
   "source": [
    "df1, df2, df3, df4, df5, df6, df7, df8, df9, df10, df11, df12, df13 = read_misconduct_data()"
   ]
  },
  {
   "cell_type": "code",
   "execution_count": 627,
   "metadata": {},
   "outputs": [],
   "source": [
    "def split_names(df):\n",
    "    df = df.pipe(clean_column_names)\n",
    "    df = df[~((df.name.fillna(\"\") == \"\"))]\n",
    "\n",
    "    names = df.name.str.lower().str.strip().str.extract(r\"(.+)\\,? (?:(\\w+\\'?\\w+?)) ?(\\w+)?\")\n",
    "    \n",
    "    df.loc[:, \"last_name\"] = names[0].str.replace(r\"\\,\", \"\", regex=True)\n",
    "    df.loc[:, \"first_name\"] = names[1]\n",
    "    df.loc[:, \"middle_name\"] = names[2]\n",
    "    return df[~((df.first_name.fillna(\"\") == \"\") & (df.last_name.fillna(\"\") == \"\"))]\n",
    "\n",
    "def split_names_f_pf(df):\n",
    "    df = df.pipe(clean_column_names)\n",
    "    df = df[~((df.name.fillna(\"\") == \"\"))]\n",
    "\n",
    "    names = df.name.str.lower().str.strip().str.extract(r\"(.+)\\.? (?:(\\w+\\'?\\w+?))\")\n",
    "    \n",
    "    df.loc[:, \"first_name\"] = names[0].str.replace(r\"\\.\", \"\", regex=True)\n",
    "    \n",
    "    df.loc[:, \"last_name\"] = names[1].str.replace(r\"\\,\", \"\", regex=True)\n",
    "    return df[~((df.first_name.fillna(\"\") == \"\") & (df.last_name.fillna(\"\") == \"\"))]\n",
    "\n",
    "\n",
    "def split_names_v3(df):\n",
    "    df = df[~((df.name.fillna(\"\") == \"\"))]\n",
    "\n",
    "    names = df.name.str.lower().str.strip().str.extract(r\"(?:(\\w+)\\,? ?)(\\w+)?\")\n",
    "    \n",
    "    df.loc[:, \"last_name\"] = names[0]\n",
    "    df.loc[:, \"first_name\"] = names[1]\n",
    "    return df[~((df.first_name.fillna(\"\") == \"\") & (df.last_name.fillna(\"\") == \"\"))]\n",
    "\n",
    "def split_names_v4(df):\n",
    "    df = df[~((df.name.fillna(\"\") == \"\"))]\n",
    "\n",
    "    names = df.name.str.lower().str.strip().str.extract(r\"(?:(\\w+)\\,? ?)(\\w+)?\")\n",
    "    \n",
    "    df.loc[:, \"first_name\"] = names[0]\n",
    "    df.loc[:, \"last_name\"] = names[1]\n",
    "    return df[~((df.first_name.fillna(\"\") == \"\") & (df.last_name.fillna(\"\") == \"\"))]\n",
    "\n",
    "def strip_titles(df):\n",
    "    df.loc[:, \"name\"] = df.name.str.lower().str.strip().replace(r\"lt\\.?\\b\", \"\", regex=True).str.replace(r\"sgt ?\", \"\", regex=True)\\\n",
    "        .str.replace(r\"captain ?\", \"\", regex=True).str.replace(r\"officers? ?\", \"\", regex=True).str.replace(r\"sergeant ?\", \"\", regex=True)\n",
    "    return df \n",
    "\n",
    "def strip_leading_aps(df):\n",
    "    df = df.apply(lambda x: x.str.replace(r\"^\\'\", \"\", regex=True))\n",
    "    return df "
   ]
  },
  {
   "cell_type": "code",
   "execution_count": 628,
   "metadata": {},
   "outputs": [],
   "source": [
    "def split_rows_with_multiple_names(df):\n",
    "    df.loc[:, \"name\"] = (df.name\n",
    "        .str.replace(r\"(\\w+) \\/ (\\w+)\", r\"\\1/\\2\", regex=True)\n",
    "        .str.replace(r\"^\\'\", \"\", regex=True)\n",
    "        .str.replace(r\"(\\w+ \\w+) (\\w+ \\w+)\", r\"\\1/\\2\", regex=True)\n",
    "    )\n",
    "    df = (\n",
    "        df.drop(\"name\", axis=1)\n",
    "        .join(\n",
    "            df[\"name\"]\n",
    "            .str.split(\"/\", expand=True)\n",
    "            .stack()\n",
    "            .reset_index(level=1, drop=True)\n",
    "            .rename(\"name\"),\n",
    "            how=\"outer\",\n",
    "        )\n",
    "        .reset_index(drop=True)\n",
    "    )\n",
    "    return df"
   ]
  },
  {
   "cell_type": "code",
   "execution_count": null,
   "metadata": {},
   "outputs": [],
   "source": [
    "df1[[\"first_name\", \"middle_name\"]] = \"\"\n",
    "\n",
    "df2 = df2.pipe(split_names)\n",
    "\n",
    "df3 = df3.pipe(clean_column_names)\n",
    "df3 = df3.rename(columns={\"name\": \"last_name\"})\n",
    "df3[[\"first_name\", \"middle_name\"]] = \"\"\n",
    "\n",
    "df4 = df4.pipe(split_names)\n",
    "\n",
    "df5 = df5.pipe(split_rows_with_multiple_names).pipe(split_names)\n",
    "\n",
    "df6 = (df6\n",
    "        .pipe(clean_column_names)\n",
    "        .rename(columns={\"officer\": \"name\"})\n",
    "        .pipe(split_rows_with_multiple_names)\n",
    "        .pipe(split_names_f_pf)\n",
    "        )\n",
    "\n",
    "df6[[\"middle_name\"]] = \"\"\n",
    "\n",
    "df7[[\"middle_name\"]] = \"\"\n",
    "\n",
    "df8_a = (df8.pipe(clean_column_names).rename(columns={\"involved_officer\": \"name\"}).pipe(split_rows_with_multiple_names).pipe(split_names_v3))\n",
    "df8_b = (df8.pipe(clean_column_names).rename(columns={\"ia_investigator\": \"name\"}).pipe(strip_titles).pipe(split_names_f_pf))\n",
    "df8 = pd.concat([df8_a, df8_b])\n",
    "df8[[\"middle_name\"]] = \"\"\n",
    "\n",
    "\n",
    "df9_a = df9.pipe(clean_column_names).reset_index()\n",
    "df9_a = df9_a[[\"first_name\", \"last_name\"]]\n",
    "df9_b = df9.pipe(clean_column_names).rename(columns={\"investigator\": \"name\"}).pipe(strip_titles).pipe(split_names_f_pf)\n",
    "df9_b = df9_b[[\"first_name\", \"last_name\"]]\n",
    "df9 = pd.concat([df9_a, df9_b])\n",
    "df9[[\"middle_name\"]] = \"\"\n",
    "\n",
    "df10 = df10.pipe(clean_column_names).rename(columns={\"officer_s\": \"name\"}).pipe(strip_titles).pipe(split_names_v3)\n",
    "df10[\"middle_name\"] = \"\"\n",
    "\n",
    "df11 = df11.pipe(strip_titles).pipe(split_names_v4)\n",
    "df11[\"middle_name\"] = \"\"\n",
    "\n",
    "df12 = df12.pipe(strip_leading_aps).rename(columns={\"value\": \"name\"}).pipe(split_names)\n",
    "\n",
    "df13 = df13.pipe(split_names_v4)\n",
    "\n",
    "dfc = pd.concat([df1, df2, df3, df4, df5, df6, df7, df8, df9, df10, df11, df12, df13], axis=0)\n",
    "dfc = dfc.reset_index()\n",
    "dfc = dfc[[\"first_name\", \"middle_name\", \"last_name\", \"agency\"]]\n",
    "dfc = dfc.pipe(standardize_desc_cols, [\"first_name\", \"middle_name\", \"last_name\"])\n",
    "dfc"
   ]
  },
  {
   "cell_type": "code",
   "execution_count": 630,
   "metadata": {},
   "outputs": [],
   "source": [
    "\n",
    "def match_ok_names_to_personnel(ok, agency):\n",
    "    dfa = ok[[\"first_name\", \"middle_name\", \"last_name\", \"notes\", \"city\", \"state\"]]\n",
    "    dfa[\"agency\"] = \"\"\n",
    "    dfa = dfa.pipe(gen_uid, [\"first_name\", \"middle_name\", \"last_name\"])\n",
    "    dfa = dfa.drop_duplicates(subset=[\"uid\"])\n",
    "    dfa.loc[:, \"fc\"] = dfa.first_name.fillna(\"\").map(lambda x: x[:1])\n",
    "\n",
    "    dfb = agency[[\"first_name\", \"middle_name\", \"last_name\", \"agency\"]]\n",
    "    dfb = dfb.pipe(gen_uid, [\"first_name\", \"middle_name\", \"last_name\"])\n",
    "    dfb = dfb.drop_duplicates(subset=[\"uid\"])\n",
    "    dfb[\"city\"] = \"\"\n",
    "    dfb[\"state\"] = \"\"\n",
    "    dfb[\"notes\"] = \"\"\n",
    "    dfb.loc[:, \"fc\"] = dfb.first_name.fillna(\"\").map(lambda x: x[:1])\n",
    "\n",
    "    matcher = ThresholdMatcher(\n",
    "        ColumnsIndex([]),\n",
    "        {\n",
    "            \"last_name\": JaroWinklerSimilarity(),\n",
    "            \"first_name\": JaroWinklerSimilarity(),\n",
    "        },\n",
    "        dfa,\n",
    "        dfb,\n",
    "    )\n",
    "    decision = 0.800\n",
    "    matcher.save_pairs_to_excel(\n",
    "        (\"../data/MA/oathkeepers_v_ma.xlsx\"), decision\n",
    "    )\n",
    "    return matcher"
   ]
  },
  {
   "cell_type": "code",
   "execution_count": 631,
   "metadata": {},
   "outputs": [
    {
     "name": "stderr",
     "output_type": "stream",
     "text": [
      "C:\\Users\\PC\\AppData\\Local\\Temp\\ipykernel_11436\\3161405069.py:3: SettingWithCopyWarning: \n",
      "A value is trying to be set on a copy of a slice from a DataFrame.\n",
      "Try using .loc[row_indexer,col_indexer] = value instead\n",
      "\n",
      "See the caveats in the documentation: https://pandas.pydata.org/pandas-docs/stable/user_guide/indexing.html#returning-a-view-versus-a-copy\n",
      "  dfa[\"agency\"] = \"\"\n",
      "c:\\Users\\PC\\Desktop\\keepers\\ok\\notebooks\\..\\lib\\uid.py:46: SettingWithCopyWarning: \n",
      "A value is trying to be set on a copy of a slice from a DataFrame.\n",
      "Try using .loc[row_indexer,col_indexer] = value instead\n",
      "\n",
      "See the caveats in the documentation: https://pandas.pydata.org/pandas-docs/stable/user_guide/indexing.html#returning-a-view-versus-a-copy\n",
      "  df.loc[:, uid_name] = (\n"
     ]
    }
   ],
   "source": [
    "match = match_ok_names_to_personnel(dfa, dfc)"
   ]
  },
  {
   "cell_type": "code",
   "execution_count": 632,
   "metadata": {},
   "outputs": [],
   "source": [
    "def read_matches():\n",
    "    df = pd.read_excel(\"../data/MA/oathkeepers_v_ma.xlsx\", sheet_name=1)\n",
    "    return df "
   ]
  },
  {
   "cell_type": "code",
   "execution_count": 633,
   "metadata": {},
   "outputs": [],
   "source": [
    "matches = read_matches()"
   ]
  },
  {
   "cell_type": "code",
   "execution_count": null,
   "metadata": {},
   "outputs": [],
   "source": [
    "matches.iloc[:50]"
   ]
  }
 ],
 "metadata": {
  "kernelspec": {
   "display_name": "Python 3.10.8 64-bit (microsoft store)",
   "language": "python",
   "name": "python3"
  },
  "language_info": {
   "codemirror_mode": {
    "name": "ipython",
    "version": 3
   },
   "file_extension": ".py",
   "mimetype": "text/x-python",
   "name": "python",
   "nbconvert_exporter": "python",
   "pygments_lexer": "ipython3",
   "version": "3.10.8"
  },
  "orig_nbformat": 4,
  "vscode": {
   "interpreter": {
    "hash": "23f823caeccb1684f6bd50492b68bb5eab208de0408f39b2457c6a38c0e8e818"
   }
  }
 },
 "nbformat": 4,
 "nbformat_minor": 2
}
