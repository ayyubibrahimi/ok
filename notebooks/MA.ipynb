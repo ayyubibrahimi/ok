{
 "cells": [
  {
   "cell_type": "code",
   "execution_count": 221,
   "metadata": {},
   "outputs": [],
   "source": [
    "import pandas as pd\n",
    "from datamatch import (\n",
    "    JaroWinklerSimilarity,\n",
    "    ThresholdMatcher,\n",
    "    ColumnsIndex,\n",
    ")"
   ]
  },
  {
   "cell_type": "code",
   "execution_count": 222,
   "metadata": {},
   "outputs": [],
   "source": [
    "def read_data():\n",
    "    df = pd.read_csv(\"../data/OK/aggregate_members_oathkeepers_cleaned.csv\")\n",
    "    return df "
   ]
  },
  {
   "cell_type": "code",
   "execution_count": 223,
   "metadata": {},
   "outputs": [],
   "source": [
    "dfa = read_data()"
   ]
  },
  {
   "cell_type": "code",
   "execution_count": 224,
   "metadata": {},
   "outputs": [],
   "source": [
    "dfa = dfa.fillna(\"\")"
   ]
  },
  {
   "cell_type": "code",
   "execution_count": 225,
   "metadata": {},
   "outputs": [],
   "source": [
    "dfa.loc[:, \"state\"] = dfa.state.str.lower().str.strip().str.replace(r\"ma\\.\", \"ma\", regex=True)"
   ]
  },
  {
   "cell_type": "code",
   "execution_count": 226,
   "metadata": {},
   "outputs": [
    {
     "data": {
      "text/plain": [
       "array(['wy', 'me', 'nm', 'nh', 'ok', 'nc', 'nj', 'ca', 'ga', 'vt', 'ak',\n",
       "       'id', 'ri', 'tx', 'pa', 'ne', 'ny', 'in', 'mt', 'or', 'wa', 'ma',\n",
       "       'al', 'va', 'il', 'nv', 'wi', 'fl', 'mi', 'oh', 'co', 'ct', 'sc',\n",
       "       'la', 'ia', 'ar', 'az', 'tn', 'ut', 'ks', 'ky', 'mn', 'wa.', 'mo',\n",
       "       'md', 'hi', 'wv', 'ms', 'dc', 'de', 'sd', 'nd', 'ae', '', 'canada',\n",
       "       'grand island', 'sacramento', 'thailand', 'ne.', 'fl  (az)', 'la.',\n",
       "       'n.y.', 'pa.', 'iowa', 'bc canada', '??', 'austraila pto', 'ap',\n",
       "       'lv', 'jacksonville', 'bc', 'oslo', 'alberta, canada',\n",
       "       'western australia', 'rl', 'carolina beach', '--', 'cn', 'pr',\n",
       "       'md�', 'florida', '9000', 'stewartstown', 'roosevelt',\n",
       "       'ca  nonono', 'e7n2v2', 'st croix', 'hamden', 'ontario',\n",
       "       '607ws/dow, unit: 15173, apo, ap 96205, united states',\n",
       "       'oh  start', 'mo  end', 'ny11580', '8724', 'ny11766', 'nc28773',\n",
       "       'sterling heights'], dtype=object)"
      ]
     },
     "execution_count": 226,
     "metadata": {},
     "output_type": "execute_result"
    }
   ],
   "source": [
    "dfa.state.unique()"
   ]
  },
  {
   "cell_type": "code",
   "execution_count": 227,
   "metadata": {},
   "outputs": [],
   "source": [
    "dfa = dfa[dfa.state.isin([\"ma\"])]\n",
    "dfa.loc[:, \"notes\"] = dfa.notes.str.lower().str.strip()\n",
    "dfa.loc[:, \"first_name\"] = dfa.first_name.str.replace(r\"^ (\\w+)\", r\"\\1\", regex=True).str.replace(r\"(\\w+) $\", r\"\\1\", regex=True)\n",
    "dfa.loc[:, \"last_name\"] = dfa.last_name.str.replace(r\"^ (\\w+)\", r\"\\1\", regex=True).str.replace(r\"(\\w+) $\", r\"\\1\", regex=True)\n",
    "dfa.loc[:, \"city\"] = dfa.city.str.lower().str.strip().str.replace(r\"\\,.+\", \"\", regex=True)"
   ]
  },
  {
   "cell_type": "code",
   "execution_count": 228,
   "metadata": {},
   "outputs": [
    {
     "data": {
      "text/html": [
       "<div>\n",
       "<style scoped>\n",
       "    .dataframe tbody tr th:only-of-type {\n",
       "        vertical-align: middle;\n",
       "    }\n",
       "\n",
       "    .dataframe tbody tr th {\n",
       "        vertical-align: top;\n",
       "    }\n",
       "\n",
       "    .dataframe thead th {\n",
       "        text-align: right;\n",
       "    }\n",
       "</style>\n",
       "<table border=\"1\" class=\"dataframe\">\n",
       "  <thead>\n",
       "    <tr style=\"text-align: right;\">\n",
       "      <th></th>\n",
       "      <th>id_number</th>\n",
       "      <th>group_name</th>\n",
       "      <th>bool</th>\n",
       "      <th>city</th>\n",
       "      <th>state</th>\n",
       "      <th>email</th>\n",
       "      <th>undefined_date</th>\n",
       "      <th>notes</th>\n",
       "      <th>first_name</th>\n",
       "      <th>middle_name</th>\n",
       "      <th>last_name</th>\n",
       "    </tr>\n",
       "  </thead>\n",
       "  <tbody>\n",
       "  </tbody>\n",
       "</table>\n",
       "</div>"
      ],
      "text/plain": [
       "Empty DataFrame\n",
       "Columns: [id_number, group_name, bool, city, state, email, undefined_date, notes, first_name, middle_name, last_name]\n",
       "Index: []"
      ]
     },
     "execution_count": 228,
     "metadata": {},
     "output_type": "execute_result"
    }
   ],
   "source": [
    "search_1 = dfa[dfa.notes.str.contains(\"law enforcement\")]\n",
    "search_1"
   ]
  },
  {
   "cell_type": "code",
   "execution_count": 229,
   "metadata": {},
   "outputs": [
    {
     "data": {
      "text/html": [
       "<div>\n",
       "<style scoped>\n",
       "    .dataframe tbody tr th:only-of-type {\n",
       "        vertical-align: middle;\n",
       "    }\n",
       "\n",
       "    .dataframe tbody tr th {\n",
       "        vertical-align: top;\n",
       "    }\n",
       "\n",
       "    .dataframe thead th {\n",
       "        text-align: right;\n",
       "    }\n",
       "</style>\n",
       "<table border=\"1\" class=\"dataframe\">\n",
       "  <thead>\n",
       "    <tr style=\"text-align: right;\">\n",
       "      <th></th>\n",
       "      <th>id_number</th>\n",
       "      <th>group_name</th>\n",
       "      <th>bool</th>\n",
       "      <th>city</th>\n",
       "      <th>state</th>\n",
       "      <th>email</th>\n",
       "      <th>undefined_date</th>\n",
       "      <th>notes</th>\n",
       "      <th>first_name</th>\n",
       "      <th>middle_name</th>\n",
       "      <th>last_name</th>\n",
       "    </tr>\n",
       "  </thead>\n",
       "  <tbody>\n",
       "    <tr>\n",
       "      <th>4122</th>\n",
       "      <td>1043</td>\n",
       "      <td>Annual</td>\n",
       "      <td>No</td>\n",
       "      <td>hopkinton</td>\n",
       "      <td>ma</td>\n",
       "      <td>cjdcarving@gmail.com</td>\n",
       "      <td></td>\n",
       "      <td>civilian - brothers are ret. mil, policeman, m...</td>\n",
       "      <td>cecilia</td>\n",
       "      <td>del</td>\n",
       "      <td>gaudio</td>\n",
       "    </tr>\n",
       "    <tr>\n",
       "      <th>8197</th>\n",
       "      <td>6075</td>\n",
       "      <td>Annual</td>\n",
       "      <td>No</td>\n",
       "      <td>westport</td>\n",
       "      <td>ma</td>\n",
       "      <td>David.Bellavance@us.ngrid.com</td>\n",
       "      <td></td>\n",
       "      <td>cpr/fa/aed instuctor if people want to be cert...</td>\n",
       "      <td>david</td>\n",
       "      <td></td>\n",
       "      <td>bellavance</td>\n",
       "    </tr>\n",
       "    <tr>\n",
       "      <th>13353</th>\n",
       "      <td>11462</td>\n",
       "      <td>Annual</td>\n",
       "      <td>No</td>\n",
       "      <td>braintree</td>\n",
       "      <td>ma</td>\n",
       "      <td>beungood8@aol.com</td>\n",
       "      <td>1/6/2012</td>\n",
       "      <td>i have been  a fulltime sworn police officer f...</td>\n",
       "      <td>john</td>\n",
       "      <td></td>\n",
       "      <td>ouellette</td>\n",
       "    </tr>\n",
       "  </tbody>\n",
       "</table>\n",
       "</div>"
      ],
      "text/plain": [
       "      id_number group_name bool       city state  \\\n",
       "4122       1043     Annual   No  hopkinton    ma   \n",
       "8197       6075     Annual   No   westport    ma   \n",
       "13353     11462     Annual   No  braintree    ma   \n",
       "\n",
       "                               email undefined_date  \\\n",
       "4122            cjdcarving@gmail.com                  \n",
       "8197   David.Bellavance@us.ngrid.com                  \n",
       "13353              beungood8@aol.com       1/6/2012   \n",
       "\n",
       "                                                   notes first_name  \\\n",
       "4122   civilian - brothers are ret. mil, policeman, m...    cecilia   \n",
       "8197   cpr/fa/aed instuctor if people want to be cert...      david   \n",
       "13353  i have been  a fulltime sworn police officer f...       john   \n",
       "\n",
       "      middle_name   last_name  \n",
       "4122          del      gaudio  \n",
       "8197               bellavance  \n",
       "13353               ouellette  "
      ]
     },
     "execution_count": 229,
     "metadata": {},
     "output_type": "execute_result"
    }
   ],
   "source": [
    "search_2 = dfa[dfa.notes.str.contains(\"police\")]\n",
    "search_2"
   ]
  },
  {
   "cell_type": "code",
   "execution_count": 230,
   "metadata": {},
   "outputs": [
    {
     "data": {
      "text/plain": [
       "array(['i am a sergeant supervising a patrol shift in falmouth, massachusetts.  i am a member of the sandwich american legion post 188 and a member of the leathernecks motorcycle club.'],\n",
       "      dtype=object)"
      ]
     },
     "execution_count": 230,
     "metadata": {},
     "output_type": "execute_result"
    }
   ],
   "source": [
    "search_3 = dfa[dfa.notes.str.contains(\"patrol\")]\n",
    "search_3.notes.unique()"
   ]
  },
  {
   "cell_type": "code",
   "execution_count": 231,
   "metadata": {},
   "outputs": [
    {
     "data": {
      "text/plain": [
       "array([\"also worked as k9 officer, also worked with nd attorney general's drug enforcement unit\",\n",
       "       \"cpr/fa/aed instuctor if people want to be certified i can provide that. first responder trained for medical if needed. the skills i've learned as a soldier and part time police officer.\",\n",
       "       'i have been  a fulltime sworn police officer for 16 years.  i am into cycling,hunting fishing,martial arts ,kayaking and cross country skiing'],\n",
       "      dtype=object)"
      ]
     },
     "execution_count": 231,
     "metadata": {},
     "output_type": "execute_result"
    }
   ],
   "source": [
    "search_4 = dfa[dfa.notes.str.contains(\"officer\")]\n",
    "search_4.notes.unique()"
   ]
  },
  {
   "cell_type": "code",
   "execution_count": 232,
   "metadata": {},
   "outputs": [
    {
     "data": {
      "text/html": [
       "<div>\n",
       "<style scoped>\n",
       "    .dataframe tbody tr th:only-of-type {\n",
       "        vertical-align: middle;\n",
       "    }\n",
       "\n",
       "    .dataframe tbody tr th {\n",
       "        vertical-align: top;\n",
       "    }\n",
       "\n",
       "    .dataframe thead th {\n",
       "        text-align: right;\n",
       "    }\n",
       "</style>\n",
       "<table border=\"1\" class=\"dataframe\">\n",
       "  <thead>\n",
       "    <tr style=\"text-align: right;\">\n",
       "      <th></th>\n",
       "      <th>id_number</th>\n",
       "      <th>group_name</th>\n",
       "      <th>bool</th>\n",
       "      <th>city</th>\n",
       "      <th>state</th>\n",
       "      <th>email</th>\n",
       "      <th>undefined_date</th>\n",
       "      <th>notes</th>\n",
       "      <th>first_name</th>\n",
       "      <th>middle_name</th>\n",
       "      <th>last_name</th>\n",
       "    </tr>\n",
       "  </thead>\n",
       "  <tbody>\n",
       "  </tbody>\n",
       "</table>\n",
       "</div>"
      ],
      "text/plain": [
       "Empty DataFrame\n",
       "Columns: [id_number, group_name, bool, city, state, email, undefined_date, notes, first_name, middle_name, last_name]\n",
       "Index: []"
      ]
     },
     "execution_count": 232,
     "metadata": {},
     "output_type": "execute_result"
    }
   ],
   "source": [
    "search_5 = dfa[dfa.notes.str.contains(\"swat\")]\n",
    "search_5"
   ]
  },
  {
   "cell_type": "code",
   "execution_count": 233,
   "metadata": {},
   "outputs": [
    {
     "data": {
      "text/html": [
       "<div>\n",
       "<style scoped>\n",
       "    .dataframe tbody tr th:only-of-type {\n",
       "        vertical-align: middle;\n",
       "    }\n",
       "\n",
       "    .dataframe tbody tr th {\n",
       "        vertical-align: top;\n",
       "    }\n",
       "\n",
       "    .dataframe thead th {\n",
       "        text-align: right;\n",
       "    }\n",
       "</style>\n",
       "<table border=\"1\" class=\"dataframe\">\n",
       "  <thead>\n",
       "    <tr style=\"text-align: right;\">\n",
       "      <th></th>\n",
       "      <th>id_number</th>\n",
       "      <th>group_name</th>\n",
       "      <th>bool</th>\n",
       "      <th>city</th>\n",
       "      <th>state</th>\n",
       "      <th>email</th>\n",
       "      <th>undefined_date</th>\n",
       "      <th>notes</th>\n",
       "      <th>first_name</th>\n",
       "      <th>middle_name</th>\n",
       "      <th>last_name</th>\n",
       "    </tr>\n",
       "  </thead>\n",
       "  <tbody>\n",
       "  </tbody>\n",
       "</table>\n",
       "</div>"
      ],
      "text/plain": [
       "Empty DataFrame\n",
       "Columns: [id_number, group_name, bool, city, state, email, undefined_date, notes, first_name, middle_name, last_name]\n",
       "Index: []"
      ]
     },
     "execution_count": 233,
     "metadata": {},
     "output_type": "execute_result"
    }
   ],
   "source": [
    "search_6 = dfa[dfa.notes.str.contains(\"explosive\")]\n",
    "search_6"
   ]
  },
  {
   "cell_type": "code",
   "execution_count": 234,
   "metadata": {},
   "outputs": [
    {
     "data": {
      "text/html": [
       "<div>\n",
       "<style scoped>\n",
       "    .dataframe tbody tr th:only-of-type {\n",
       "        vertical-align: middle;\n",
       "    }\n",
       "\n",
       "    .dataframe tbody tr th {\n",
       "        vertical-align: top;\n",
       "    }\n",
       "\n",
       "    .dataframe thead th {\n",
       "        text-align: right;\n",
       "    }\n",
       "</style>\n",
       "<table border=\"1\" class=\"dataframe\">\n",
       "  <thead>\n",
       "    <tr style=\"text-align: right;\">\n",
       "      <th></th>\n",
       "      <th>id_number</th>\n",
       "      <th>group_name</th>\n",
       "      <th>bool</th>\n",
       "      <th>city</th>\n",
       "      <th>state</th>\n",
       "      <th>email</th>\n",
       "      <th>undefined_date</th>\n",
       "      <th>notes</th>\n",
       "      <th>first_name</th>\n",
       "      <th>middle_name</th>\n",
       "      <th>last_name</th>\n",
       "    </tr>\n",
       "  </thead>\n",
       "  <tbody>\n",
       "  </tbody>\n",
       "</table>\n",
       "</div>"
      ],
      "text/plain": [
       "Empty DataFrame\n",
       "Columns: [id_number, group_name, bool, city, state, email, undefined_date, notes, first_name, middle_name, last_name]\n",
       "Index: []"
      ]
     },
     "execution_count": 234,
     "metadata": {},
     "output_type": "execute_result"
    }
   ],
   "source": [
    "search_7 = dfa[dfa.notes.str.contains(\"bomb\")]\n",
    "search_7"
   ]
  },
  {
   "cell_type": "code",
   "execution_count": 235,
   "metadata": {},
   "outputs": [
    {
     "data": {
      "text/plain": [
       "array(['spreading the word, and god forbid forming a neighborhood / town militia to keep the oath. i am the son of a us army msgt who died active duty (cid)1971, british boys brigade at 8yo,shot my first m60 at age of 9 at green berit day new cumberland army depot,attended west point youth camp 4 years.i know what kind of people can be counted on and trusted.and i will never submit to any enemy foriegn or domestic.'],\n",
       "      dtype=object)"
      ]
     },
     "execution_count": 235,
     "metadata": {},
     "output_type": "execute_result"
    }
   ],
   "source": [
    "search_8 = dfa[dfa.notes.str.contains(\"active duty\")]\n",
    "search_8.notes.unique()"
   ]
  },
  {
   "cell_type": "code",
   "execution_count": 236,
   "metadata": {},
   "outputs": [],
   "source": [
    "dfs = [search_1, search_2, search_3, search_4, search_5, search_6, search_7, search_8]\n",
    "dfb = pd.concat(dfs, axis=0)"
   ]
  },
  {
   "cell_type": "code",
   "execution_count": 237,
   "metadata": {},
   "outputs": [],
   "source": [
    "def read_misconduct_data():\n",
    "    df = pd.read_csv(\"../data/MA/pprr_ma.csv\")\n",
    "    return df"
   ]
  },
  {
   "cell_type": "code",
   "execution_count": 238,
   "metadata": {},
   "outputs": [],
   "source": [
    "dfc = read_misconduct_data()\n",
    "dfc = dfc.rename(columns={\"Full_Name\": \"full_name\", \"Agency\": \"city\", \"County\": \"county\"})\n",
    "dfc.loc[:, \"city\"] = dfc.city.str.lower().str.strip().str.replace(r\" police.+\", \"\", regex=True)\n",
    "def split_names(df):\n",
    "    names = df.full_name.str.lower().str.strip().str.extract(r\"^(\\w+) (.+)\")\n",
    "    df.loc[:, \"first_name\"] = names[0]\n",
    "    df.loc[:, \"last_name\"] = names[1]\n",
    "    return df"
   ]
  },
  {
   "cell_type": "code",
   "execution_count": 239,
   "metadata": {},
   "outputs": [],
   "source": [
    "dfc = dfc.pipe(split_names)"
   ]
  },
  {
   "cell_type": "code",
   "execution_count": 240,
   "metadata": {},
   "outputs": [],
   "source": [
    "\n",
    "def match_ok_names_to_personnel(ok, agency):\n",
    "    dfa = ok[[\"first_name\", \"last_name\", \"notes\", \"city\"]]\n",
    "    dfa[\"county\"] = \"\"\n",
    "    dfa.loc[:, \"fc\"] = dfa.first_name.fillna(\"\").map(lambda x: x[:1])\n",
    "    dfa.loc[:, \"lc\"] = dfa.last_name.fillna(\"\").map(lambda x: x[:1])\n",
    "    dfa = dfa.drop_duplicates(subset=[\"first_name\", \"last_name\"])\n",
    "\n",
    "    dfb = agency[[\"first_name\", \"last_name\", \"city\", \"county\"]]\n",
    "    dfb[\"notes\"] = \"\"\n",
    "    dfb.loc[:, \"fc\"] = dfb.first_name.fillna(\"\").map(lambda x: x[:1])\n",
    "    dfb.loc[:, \"lc\"] = dfb.last_name.fillna(\"\").map(lambda x: x[:1])\n",
    "    dfb = dfb.drop_duplicates(subset=[\"first_name\", \"last_name\"])\n",
    "\n",
    "    matcher = ThresholdMatcher(\n",
    "        ColumnsIndex([\"fc\", \"lc\"]),\n",
    "        {\n",
    "            \"first_name\": JaroWinklerSimilarity(),\n",
    "            \"last_name\": JaroWinklerSimilarity(),\n",
    "        },\n",
    "        dfa,\n",
    "        dfb,\n",
    "    )\n",
    "    decision = 0.800\n",
    "    matcher.save_pairs_to_excel(\n",
    "        (\"../data/MA/oathkeeper_names_v_MA_full_roster.xlsx\"), decision\n",
    "    )\n",
    "    return matcher"
   ]
  },
  {
   "cell_type": "code",
   "execution_count": 241,
   "metadata": {},
   "outputs": [
    {
     "name": "stderr",
     "output_type": "stream",
     "text": [
      "C:\\Users\\PC\\AppData\\Local\\Temp\\ipykernel_7720\\2252717086.py:3: SettingWithCopyWarning: \n",
      "A value is trying to be set on a copy of a slice from a DataFrame.\n",
      "Try using .loc[row_indexer,col_indexer] = value instead\n",
      "\n",
      "See the caveats in the documentation: https://pandas.pydata.org/pandas-docs/stable/user_guide/indexing.html#returning-a-view-versus-a-copy\n",
      "  dfa[\"county\"] = \"\"\n",
      "C:\\Users\\PC\\AppData\\Local\\Temp\\ipykernel_7720\\2252717086.py:4: SettingWithCopyWarning: \n",
      "A value is trying to be set on a copy of a slice from a DataFrame.\n",
      "Try using .loc[row_indexer,col_indexer] = value instead\n",
      "\n",
      "See the caveats in the documentation: https://pandas.pydata.org/pandas-docs/stable/user_guide/indexing.html#returning-a-view-versus-a-copy\n",
      "  dfa.loc[:, \"fc\"] = dfa.first_name.fillna(\"\").map(lambda x: x[:1])\n",
      "C:\\Users\\PC\\AppData\\Local\\Temp\\ipykernel_7720\\2252717086.py:5: SettingWithCopyWarning: \n",
      "A value is trying to be set on a copy of a slice from a DataFrame.\n",
      "Try using .loc[row_indexer,col_indexer] = value instead\n",
      "\n",
      "See the caveats in the documentation: https://pandas.pydata.org/pandas-docs/stable/user_guide/indexing.html#returning-a-view-versus-a-copy\n",
      "  dfa.loc[:, \"lc\"] = dfa.last_name.fillna(\"\").map(lambda x: x[:1])\n"
     ]
    }
   ],
   "source": [
    "match = match_ok_names_to_personnel(dfa, dfc)"
   ]
  },
  {
   "cell_type": "code",
   "execution_count": null,
   "metadata": {},
   "outputs": [],
   "source": [
    "# def read_matches():\n",
    "#     df = pd.read_excel(\"../data/\")\n",
    "#     return df "
   ]
  },
  {
   "cell_type": "code",
   "execution_count": null,
   "metadata": {},
   "outputs": [],
   "source": [
    "# matches = read_matches()"
   ]
  },
  {
   "cell_type": "code",
   "execution_count": null,
   "metadata": {},
   "outputs": [],
   "source": [
    "# matches"
   ]
  }
 ],
 "metadata": {
  "kernelspec": {
   "display_name": "Python 3.10.8 64-bit (microsoft store)",
   "language": "python",
   "name": "python3"
  },
  "language_info": {
   "codemirror_mode": {
    "name": "ipython",
    "version": 3
   },
   "file_extension": ".py",
   "mimetype": "text/x-python",
   "name": "python",
   "nbconvert_exporter": "python",
   "pygments_lexer": "ipython3",
   "version": "3.10.8"
  },
  "orig_nbformat": 4,
  "vscode": {
   "interpreter": {
    "hash": "23f823caeccb1684f6bd50492b68bb5eab208de0408f39b2457c6a38c0e8e818"
   }
  }
 },
 "nbformat": 4,
 "nbformat_minor": 2
}
