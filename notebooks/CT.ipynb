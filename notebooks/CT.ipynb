{
 "cells": [
  {
   "cell_type": "code",
   "execution_count": 2,
   "metadata": {},
   "outputs": [],
   "source": [
    "import pandas as pd\n",
    "from datamatch import (\n",
    "    JaroWinklerSimilarity,\n",
    "    ThresholdMatcher,\n",
    "    ColumnsIndex,\n",
    ")"
   ]
  },
  {
   "cell_type": "code",
   "execution_count": 3,
   "metadata": {},
   "outputs": [],
   "source": [
    "def read_data():\n",
    "    df = pd.read_csv(\"../data/OK/aggregate_members_oathkeepers_cleaned.csv\")\n",
    "    return df "
   ]
  },
  {
   "cell_type": "code",
   "execution_count": 4,
   "metadata": {},
   "outputs": [],
   "source": [
    "dfa = read_data()"
   ]
  },
  {
   "cell_type": "code",
   "execution_count": 5,
   "metadata": {},
   "outputs": [],
   "source": [
    "dfa = dfa.fillna(\"\")"
   ]
  },
  {
   "cell_type": "code",
   "execution_count": 6,
   "metadata": {},
   "outputs": [
    {
     "data": {
      "text/plain": [
       "array(['wy', 'me', 'nm', 'nh', 'ok', 'nc', 'nj', 'ca', 'ga', 'vt', 'ak',\n",
       "       'id', 'ri', 'tx', 'pa', 'ne', 'ny', 'in', 'mt', 'or', 'wa', 'ma',\n",
       "       'al', 'va', 'il', 'nv', 'wi', 'fl', 'mi', 'oh', 'co', 'ct', 'sc',\n",
       "       'la', 'ia', 'ar', 'az', 'tn', 'ut', 'ks', 'ky', 'mn', 'wa.', 'mo',\n",
       "       'md', 'hi', 'wv', 'ms', 'dc', 'de', 'sd', 'nd', 'ae', '', 'canada',\n",
       "       'grand island', 'sacramento', 'thailand', 'ne.', 'fl  (az)', 'ma.',\n",
       "       'la.', 'n.y.', 'pa.', 'iowa', 'bc canada', '??', 'austraila pto',\n",
       "       'ap', 'lv', 'jacksonville', 'bc', 'oslo', 'alberta, canada',\n",
       "       'western australia', 'rl', 'carolina beach', '--', 'cn', 'pr',\n",
       "       'md�', 'florida', '9000', 'stewartstown', 'roosevelt',\n",
       "       'ca  nonono', 'e7n2v2', 'st croix', 'hamden', 'ontario',\n",
       "       '607ws/dow, unit: 15173, apo, ap 96205, united states',\n",
       "       'oh  start', 'mo  end', 'ny11580', '8724', 'ny11766', 'nc28773',\n",
       "       'sterling heights'], dtype=object)"
      ]
     },
     "execution_count": 6,
     "metadata": {},
     "output_type": "execute_result"
    }
   ],
   "source": [
    "dfa.loc[:, \"state\"] = dfa.state.str.lower().str.strip()\n",
    "dfa.state.unique()"
   ]
  },
  {
   "cell_type": "code",
   "execution_count": 7,
   "metadata": {},
   "outputs": [],
   "source": [
    "dfa = dfa[dfa.state.isin([\"ct\"])]\n",
    "dfa.loc[:, \"notes\"] = dfa.notes.str.lower().str.strip()"
   ]
  },
  {
   "cell_type": "code",
   "execution_count": 8,
   "metadata": {},
   "outputs": [],
   "source": [
    "dfa.loc[:, \"name\"] = dfa.first_name.fillna(\"\").str.cat(dfa.last_name.fillna(\"\"), sep=\" \")"
   ]
  },
  {
   "cell_type": "code",
   "execution_count": 9,
   "metadata": {},
   "outputs": [
    {
     "data": {
      "text/html": [
       "<div>\n",
       "<style scoped>\n",
       "    .dataframe tbody tr th:only-of-type {\n",
       "        vertical-align: middle;\n",
       "    }\n",
       "\n",
       "    .dataframe tbody tr th {\n",
       "        vertical-align: top;\n",
       "    }\n",
       "\n",
       "    .dataframe thead th {\n",
       "        text-align: right;\n",
       "    }\n",
       "</style>\n",
       "<table border=\"1\" class=\"dataframe\">\n",
       "  <thead>\n",
       "    <tr style=\"text-align: right;\">\n",
       "      <th></th>\n",
       "      <th>id_number</th>\n",
       "      <th>group_name</th>\n",
       "      <th>bool</th>\n",
       "      <th>city</th>\n",
       "      <th>state</th>\n",
       "      <th>email</th>\n",
       "      <th>undefined_date</th>\n",
       "      <th>notes</th>\n",
       "      <th>first_name</th>\n",
       "      <th>middle_name</th>\n",
       "      <th>last_name</th>\n",
       "      <th>name</th>\n",
       "    </tr>\n",
       "  </thead>\n",
       "  <tbody>\n",
       "    <tr>\n",
       "      <th>416</th>\n",
       "      <td>LT0435</td>\n",
       "      <td>Liberty Tree</td>\n",
       "      <td>No</td>\n",
       "      <td>Old Saybrook</td>\n",
       "      <td>ct</td>\n",
       "      <td>jspeedbump@gmail.com</td>\n",
       "      <td>3/26/2012</td>\n",
       "      <td></td>\n",
       "      <td>kent</td>\n",
       "      <td>p</td>\n",
       "      <td>johnson</td>\n",
       "      <td>kent johnson</td>\n",
       "    </tr>\n",
       "    <tr>\n",
       "      <th>651</th>\n",
       "      <td>LT0659</td>\n",
       "      <td>Liberty Tree</td>\n",
       "      <td>No</td>\n",
       "      <td>Sharon</td>\n",
       "      <td>ct</td>\n",
       "      <td>saac@saac.com</td>\n",
       "      <td>11/12/2012</td>\n",
       "      <td></td>\n",
       "      <td>richard</td>\n",
       "      <td>j</td>\n",
       "      <td>kopec</td>\n",
       "      <td>richard kopec</td>\n",
       "    </tr>\n",
       "    <tr>\n",
       "      <th>1108</th>\n",
       "      <td>LT1122</td>\n",
       "      <td>Liberty Tree</td>\n",
       "      <td>No</td>\n",
       "      <td>Windsor</td>\n",
       "      <td>ct</td>\n",
       "      <td>tjkinder@comcast.net</td>\n",
       "      <td>3/28/2013</td>\n",
       "      <td></td>\n",
       "      <td>thomas</td>\n",
       "      <td>j</td>\n",
       "      <td>kinderknecht</td>\n",
       "      <td>thomas kinderknecht</td>\n",
       "    </tr>\n",
       "    <tr>\n",
       "      <th>1176</th>\n",
       "      <td>LT1198</td>\n",
       "      <td>Liberty Tree</td>\n",
       "      <td>No</td>\n",
       "      <td>Litchfield</td>\n",
       "      <td>ct</td>\n",
       "      <td>tkbowhunter103@gmail.com</td>\n",
       "      <td>4/21/2013</td>\n",
       "      <td>lifetime</td>\n",
       "      <td>troy</td>\n",
       "      <td>david</td>\n",
       "      <td>kaiser</td>\n",
       "      <td>troy kaiser</td>\n",
       "    </tr>\n",
       "    <tr>\n",
       "      <th>1333</th>\n",
       "      <td>LT1359</td>\n",
       "      <td>Liberty Tree</td>\n",
       "      <td>No</td>\n",
       "      <td>Ansonia</td>\n",
       "      <td>ct</td>\n",
       "      <td>tattoomark@gmail.com</td>\n",
       "      <td>9/13/2013</td>\n",
       "      <td></td>\n",
       "      <td>mark</td>\n",
       "      <td></td>\n",
       "      <td>wood</td>\n",
       "      <td>mark wood</td>\n",
       "    </tr>\n",
       "    <tr>\n",
       "      <th>...</th>\n",
       "      <td>...</td>\n",
       "      <td>...</td>\n",
       "      <td>...</td>\n",
       "      <td>...</td>\n",
       "      <td>...</td>\n",
       "      <td>...</td>\n",
       "      <td>...</td>\n",
       "      <td>...</td>\n",
       "      <td>...</td>\n",
       "      <td>...</td>\n",
       "      <td>...</td>\n",
       "      <td>...</td>\n",
       "    </tr>\n",
       "    <tr>\n",
       "      <th>36940</th>\n",
       "      <td>Life #574</td>\n",
       "      <td>Life</td>\n",
       "      <td>No</td>\n",
       "      <td>Moosup</td>\n",
       "      <td>ct</td>\n",
       "      <td>dpickett2@yahoo.com</td>\n",
       "      <td>1/24/2013</td>\n",
       "      <td></td>\n",
       "      <td>david</td>\n",
       "      <td>j</td>\n",
       "      <td>pickett</td>\n",
       "      <td>david pickett</td>\n",
       "    </tr>\n",
       "    <tr>\n",
       "      <th>37215</th>\n",
       "      <td>Life #859</td>\n",
       "      <td>Life</td>\n",
       "      <td>No</td>\n",
       "      <td>Enfield</td>\n",
       "      <td>ct</td>\n",
       "      <td>miltystu2004@yahoo.com</td>\n",
       "      <td>10/9/2013</td>\n",
       "      <td></td>\n",
       "      <td>kevin</td>\n",
       "      <td></td>\n",
       "      <td>perrone</td>\n",
       "      <td>kevin perrone</td>\n",
       "    </tr>\n",
       "    <tr>\n",
       "      <th>37319</th>\n",
       "      <td>Life #964</td>\n",
       "      <td>Life</td>\n",
       "      <td>No</td>\n",
       "      <td>West Hartford</td>\n",
       "      <td>ct</td>\n",
       "      <td>ryanwilk123@gmail.com</td>\n",
       "      <td>12/17/2013</td>\n",
       "      <td>hat/pin</td>\n",
       "      <td>ryan</td>\n",
       "      <td></td>\n",
       "      <td>wilkinson</td>\n",
       "      <td>ryan wilkinson</td>\n",
       "    </tr>\n",
       "    <tr>\n",
       "      <th>37825</th>\n",
       "      <td>Life #1486</td>\n",
       "      <td>Life</td>\n",
       "      <td>No</td>\n",
       "      <td>Windsor Locks</td>\n",
       "      <td>ct</td>\n",
       "      <td>halmersk@gmail.com</td>\n",
       "      <td>42209.97083</td>\n",
       "      <td>hat/pin/coin</td>\n",
       "      <td>keith</td>\n",
       "      <td>d</td>\n",
       "      <td>halmers</td>\n",
       "      <td>keith halmers</td>\n",
       "    </tr>\n",
       "    <tr>\n",
       "      <th>38228</th>\n",
       "      <td>Life1897</td>\n",
       "      <td>Life</td>\n",
       "      <td>No</td>\n",
       "      <td>Litchfield, CT 06759-3009</td>\n",
       "      <td>ct</td>\n",
       "      <td>tkbowhunter103@gmail.com</td>\n",
       "      <td></td>\n",
       "      <td>needs lapel/coin</td>\n",
       "      <td>troy</td>\n",
       "      <td>david</td>\n",
       "      <td>kaiser</td>\n",
       "      <td>troy kaiser</td>\n",
       "    </tr>\n",
       "  </tbody>\n",
       "</table>\n",
       "<p>117 rows × 12 columns</p>\n",
       "</div>"
      ],
      "text/plain": [
       "        id_number    group_name bool                       city state  \\\n",
       "416        LT0435  Liberty Tree   No               Old Saybrook    ct   \n",
       "651        LT0659  Liberty Tree   No                     Sharon    ct   \n",
       "1108       LT1122  Liberty Tree   No                    Windsor    ct   \n",
       "1176       LT1198  Liberty Tree   No                 Litchfield    ct   \n",
       "1333       LT1359  Liberty Tree   No                    Ansonia    ct   \n",
       "...           ...           ...  ...                        ...   ...   \n",
       "36940   Life #574          Life   No                     Moosup    ct   \n",
       "37215   Life #859          Life   No                   Enfield     ct   \n",
       "37319   Life #964          Life   No              West Hartford    ct   \n",
       "37825  Life #1486          Life   No              Windsor Locks    ct   \n",
       "38228    Life1897          Life   No  Litchfield, CT 06759-3009    ct   \n",
       "\n",
       "                          email undefined_date             notes first_name  \\\n",
       "416        jspeedbump@gmail.com      3/26/2012                         kent   \n",
       "651               saac@saac.com     11/12/2012                      richard   \n",
       "1108       tjkinder@comcast.net      3/28/2013                       thomas   \n",
       "1176   tkbowhunter103@gmail.com      4/21/2013          lifetime       troy   \n",
       "1333       tattoomark@gmail.com      9/13/2013                         mark   \n",
       "...                         ...            ...               ...        ...   \n",
       "36940       dpickett2@yahoo.com      1/24/2013                        david   \n",
       "37215    miltystu2004@yahoo.com      10/9/2013                        kevin   \n",
       "37319     ryanwilk123@gmail.com     12/17/2013           hat/pin       ryan   \n",
       "37825        halmersk@gmail.com    42209.97083      hat/pin/coin      keith   \n",
       "38228  tkbowhunter103@gmail.com                 needs lapel/coin       troy   \n",
       "\n",
       "      middle_name     last_name                 name  \n",
       "416             p       johnson         kent johnson  \n",
       "651             j         kopec        richard kopec  \n",
       "1108            j  kinderknecht  thomas kinderknecht  \n",
       "1176        david        kaiser          troy kaiser  \n",
       "1333                       wood            mark wood  \n",
       "...           ...           ...                  ...  \n",
       "36940           j       pickett        david pickett  \n",
       "37215                   perrone        kevin perrone  \n",
       "37319                 wilkinson       ryan wilkinson  \n",
       "37825           d       halmers        keith halmers  \n",
       "38228       david        kaiser          troy kaiser  \n",
       "\n",
       "[117 rows x 12 columns]"
      ]
     },
     "execution_count": 9,
     "metadata": {},
     "output_type": "execute_result"
    }
   ],
   "source": [
    "search = dfa[dfa.name.str.contains(\"k\")]\n",
    "search"
   ]
  },
  {
   "cell_type": "code",
   "execution_count": 10,
   "metadata": {},
   "outputs": [
    {
     "data": {
      "text/plain": [
       "array([\"former corrections officer state of connecticut. sirs, i am surprised that this group of men and women have not been included in you list of memberships!! of all people, these are 'frontline' americans ~have no doubt~ consider including1000's of them\",\n",
       "       'many of my patients are police officers, troopers, fbi agents, cia and in the military. i have the ability to spread the word of this organization to my patients. i showed 2 troopers this week the web link.',\n",
       "       'naval submarine base sub school staff. medically retired 1/18/1980. i was also a volunteer firefighter for 19 years emt for 11 years and an animal control officer for 20 + years.',\n",
       "       'served as an nbc officer, supply officer and training officer. instructor for command and general staff college for the last ten years of service. police officer in hartford ct for 10 years.',\n",
       "       'ct state certified fire fighter , ct state haz mat technician, medical response technician, information technology security specialist, nra instructor - pistol, rile, shotgun, personal protection outside and inside the home, nra chief range safety officer, ro instructor,'],\n",
       "      dtype=object)"
      ]
     },
     "execution_count": 10,
     "metadata": {},
     "output_type": "execute_result"
    }
   ],
   "source": [
    "search_2 = dfa[dfa.notes.str.contains(\"officer\")]\n",
    "search_2.notes.unique()"
   ]
  },
  {
   "cell_type": "code",
   "execution_count": 11,
   "metadata": {},
   "outputs": [],
   "source": [
    "# dfs = [search_1, search_2]\n",
    "# dfb = pd.concat(dfs, axis=0)\n",
    "# dfb"
   ]
  },
  {
   "cell_type": "code",
   "execution_count": 12,
   "metadata": {},
   "outputs": [],
   "source": [
    "def read_misconduct_data():\n",
    "    df = pd.read_csv(\"../data/CT/ct_misconduct.csv\")\n",
    "    return df"
   ]
  },
  {
   "cell_type": "code",
   "execution_count": 13,
   "metadata": {},
   "outputs": [],
   "source": [
    "dfc = read_misconduct_data()"
   ]
  },
  {
   "cell_type": "code",
   "execution_count": 14,
   "metadata": {},
   "outputs": [],
   "source": [
    "\n",
    "def match_ok_names_to_personnel(ok, agency):\n",
    "    dfa = ok[[\"first_name\", \"last_name\"]]\n",
    "    dfa.loc[:, \"first_name\"] = dfa.first_name.str.lower().str.strip()\n",
    "    dfa.loc[:, \"last_name\"] = dfa.last_name.str.lower().str.strip()\n",
    "    dfa.loc[:, \"fc\"] = dfa.first_name.fillna(\"\").map(lambda x: x[:1])\n",
    "    dfa.loc[:, \"lc\"] = dfa.last_name.fillna(\"\").map(lambda x: x[:1])\n",
    "\n",
    "    dfb = agency[[\"first_name\", \"last_name\"]]\n",
    "    dfb.loc[:, \"first_name\"] = dfb.first_name.str.lower().str.strip()\n",
    "    dfb.loc[:, \"last_name\"] = dfb.last_name.str.lower().str.strip()\n",
    "    dfb.loc[:, \"fc\"] = dfb.first_name.fillna(\"\").map(lambda x: x[:1])\n",
    "    dfb.loc[:, \"lc\"] = dfb.last_name.fillna(\"\").map(lambda x: x[:1])\n",
    "\n",
    "    matcher = ThresholdMatcher(\n",
    "        ColumnsIndex([]),\n",
    "        {\n",
    "            \"first_name\": JaroWinklerSimilarity(),\n",
    "            \"last_name\": JaroWinklerSimilarity(),\n",
    "        },\n",
    "        dfa,\n",
    "        dfb,\n",
    "    )\n",
    "    decision = 0.800\n",
    "    matcher.save_pairs_to_excel(\n",
    "        (\"../data/CT/oathkeeper_names_v_CT_misconduct_data.xlsx\"), decision\n",
    "    )\n",
    "    return matcher\n"
   ]
  },
  {
   "cell_type": "code",
   "execution_count": 15,
   "metadata": {},
   "outputs": [
    {
     "name": "stderr",
     "output_type": "stream",
     "text": [
      "C:\\Users\\PC\\AppData\\Local\\Temp\\ipykernel_14624\\2697142198.py:3: SettingWithCopyWarning: \n",
      "A value is trying to be set on a copy of a slice from a DataFrame.\n",
      "Try using .loc[row_indexer,col_indexer] = value instead\n",
      "\n",
      "See the caveats in the documentation: https://pandas.pydata.org/pandas-docs/stable/user_guide/indexing.html#returning-a-view-versus-a-copy\n",
      "  dfa.loc[:, \"first_name\"] = dfa.first_name.str.lower().str.strip()\n",
      "C:\\Users\\PC\\AppData\\Local\\Temp\\ipykernel_14624\\2697142198.py:4: SettingWithCopyWarning: \n",
      "A value is trying to be set on a copy of a slice from a DataFrame.\n",
      "Try using .loc[row_indexer,col_indexer] = value instead\n",
      "\n",
      "See the caveats in the documentation: https://pandas.pydata.org/pandas-docs/stable/user_guide/indexing.html#returning-a-view-versus-a-copy\n",
      "  dfa.loc[:, \"last_name\"] = dfa.last_name.str.lower().str.strip()\n",
      "C:\\Users\\PC\\AppData\\Local\\Temp\\ipykernel_14624\\2697142198.py:5: SettingWithCopyWarning: \n",
      "A value is trying to be set on a copy of a slice from a DataFrame.\n",
      "Try using .loc[row_indexer,col_indexer] = value instead\n",
      "\n",
      "See the caveats in the documentation: https://pandas.pydata.org/pandas-docs/stable/user_guide/indexing.html#returning-a-view-versus-a-copy\n",
      "  dfa.loc[:, \"fc\"] = dfa.first_name.fillna(\"\").map(lambda x: x[:1])\n",
      "C:\\Users\\PC\\AppData\\Local\\Temp\\ipykernel_14624\\2697142198.py:6: SettingWithCopyWarning: \n",
      "A value is trying to be set on a copy of a slice from a DataFrame.\n",
      "Try using .loc[row_indexer,col_indexer] = value instead\n",
      "\n",
      "See the caveats in the documentation: https://pandas.pydata.org/pandas-docs/stable/user_guide/indexing.html#returning-a-view-versus-a-copy\n",
      "  dfa.loc[:, \"lc\"] = dfa.last_name.fillna(\"\").map(lambda x: x[:1])\n",
      "C:\\Users\\PC\\AppData\\Local\\Temp\\ipykernel_14624\\2697142198.py:9: SettingWithCopyWarning: \n",
      "A value is trying to be set on a copy of a slice from a DataFrame.\n",
      "Try using .loc[row_indexer,col_indexer] = value instead\n",
      "\n",
      "See the caveats in the documentation: https://pandas.pydata.org/pandas-docs/stable/user_guide/indexing.html#returning-a-view-versus-a-copy\n",
      "  dfb.loc[:, \"first_name\"] = dfb.first_name.str.lower().str.strip()\n",
      "C:\\Users\\PC\\AppData\\Local\\Temp\\ipykernel_14624\\2697142198.py:10: SettingWithCopyWarning: \n",
      "A value is trying to be set on a copy of a slice from a DataFrame.\n",
      "Try using .loc[row_indexer,col_indexer] = value instead\n",
      "\n",
      "See the caveats in the documentation: https://pandas.pydata.org/pandas-docs/stable/user_guide/indexing.html#returning-a-view-versus-a-copy\n",
      "  dfb.loc[:, \"last_name\"] = dfb.last_name.str.lower().str.strip()\n",
      "C:\\Users\\PC\\AppData\\Local\\Temp\\ipykernel_14624\\2697142198.py:11: SettingWithCopyWarning: \n",
      "A value is trying to be set on a copy of a slice from a DataFrame.\n",
      "Try using .loc[row_indexer,col_indexer] = value instead\n",
      "\n",
      "See the caveats in the documentation: https://pandas.pydata.org/pandas-docs/stable/user_guide/indexing.html#returning-a-view-versus-a-copy\n",
      "  dfb.loc[:, \"fc\"] = dfb.first_name.fillna(\"\").map(lambda x: x[:1])\n",
      "C:\\Users\\PC\\AppData\\Local\\Temp\\ipykernel_14624\\2697142198.py:12: SettingWithCopyWarning: \n",
      "A value is trying to be set on a copy of a slice from a DataFrame.\n",
      "Try using .loc[row_indexer,col_indexer] = value instead\n",
      "\n",
      "See the caveats in the documentation: https://pandas.pydata.org/pandas-docs/stable/user_guide/indexing.html#returning-a-view-versus-a-copy\n",
      "  dfb.loc[:, \"lc\"] = dfb.last_name.fillna(\"\").map(lambda x: x[:1])\n"
     ]
    }
   ],
   "source": [
    "match = match_ok_names_to_personnel(dfa, dfc)"
   ]
  },
  {
   "cell_type": "code",
   "execution_count": null,
   "metadata": {},
   "outputs": [],
   "source": [
    "# def read_matches():\n",
    "#     df = pd.read_excel(\"../data/HI/oathkeeper_names_v_HI_misconduct_data.xlsx\")\n",
    "#     return df "
   ]
  },
  {
   "cell_type": "code",
   "execution_count": null,
   "metadata": {},
   "outputs": [],
   "source": [
    "# matches = read_matches()"
   ]
  },
  {
   "cell_type": "code",
   "execution_count": null,
   "metadata": {},
   "outputs": [],
   "source": [
    "# matches"
   ]
  }
 ],
 "metadata": {
  "kernelspec": {
   "display_name": "Python 3.10.8 64-bit (microsoft store)",
   "language": "python",
   "name": "python3"
  },
  "language_info": {
   "codemirror_mode": {
    "name": "ipython",
    "version": 3
   },
   "file_extension": ".py",
   "mimetype": "text/x-python",
   "name": "python",
   "nbconvert_exporter": "python",
   "pygments_lexer": "ipython3",
   "version": "3.10.8"
  },
  "orig_nbformat": 4,
  "vscode": {
   "interpreter": {
    "hash": "23f823caeccb1684f6bd50492b68bb5eab208de0408f39b2457c6a38c0e8e818"
   }
  }
 },
 "nbformat": 4,
 "nbformat_minor": 2
}
