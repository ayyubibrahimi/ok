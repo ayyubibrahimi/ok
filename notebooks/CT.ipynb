{
 "cells": [
  {
   "cell_type": "code",
   "execution_count": 71,
   "metadata": {},
   "outputs": [],
   "source": [
    "import pandas as pd\n",
    "from datamatch import (\n",
    "    JaroWinklerSimilarity,\n",
    "    ThresholdMatcher,\n",
    "    ColumnsIndex,\n",
    ")\n",
    "import re"
   ]
  },
  {
   "cell_type": "code",
   "execution_count": 72,
   "metadata": {},
   "outputs": [],
   "source": [
    "def match_names_w_badge_nos(df):\n",
    "    df = df.astype(str)\n",
    "    df[\"names\"] = \" \".join(row for row in df[\"data\"])\n",
    "    names = df[\"names\"][0]\n",
    "    df = df.drop_duplicates(subset=[\"names\"])\n",
    "    \n",
    "    NAME1 = r\"[A-Z][a-z]+,?\\s+\"\n",
    "    MIDDLE_I = r\"(?:[A-Z][a-z]*\\.?\\s*)?\"\n",
    "    NAME2 = r\"[A-Z][a-z]+\\s+\"\n",
    "    BADGE = r\"#?\\(\\w+\\)\\s+\"\n",
    "\n",
    "    result = re.findall(NAME1 + MIDDLE_I + NAME2 + BADGE, names)\n",
    "    df = pd.DataFrame(result, columns=[\"officers\"])\n",
    "    return df\n",
    "    \n",
    "def match_names(df):\n",
    "    df = df.astype(str)\n",
    "    ID = r\"([Oo]fficer\\(?s?\\)?:?.+|[Ss]gt.+|[Ll]t.+|[Ddet].+|[Cc]a?pt.+|[Oo]fc.+|[Ss]ergeant.+|[Llieutenant].+|[Dd]etective.+)\"\n",
    "\n",
    "    result = [re.findall(ID, row) for row in df[\"data\"]]\n",
    "    df = pd.DataFrame(result, columns=[\"officers\"])\n",
    "    df = df[~((df.officers.fillna(\"\") == \"\"))]\n",
    "\n",
    "    return df\n",
    "\n",
    "def df1():\n",
    "    df = pd.read_csv(\n",
    "        (\"../data/CT/ocr/new_haven_allegations.txt\"),\n",
    "        sep=\"delimiter\",\n",
    "        header=None,\n",
    "        engine=\"python\",\n",
    "        index_col=False,\n",
    "    )\n",
    "    df = (\n",
    "        df\\\n",
    "        .rename(columns={df.columns[0]: \"data\"})\n",
    "        .pipe(match_names)\n",
    "    )\n",
    "    return df\n",
    "\n",
    "\n",
    "def df2():\n",
    "    df = pd.read_csv(\n",
    "        (\"../data/CT/ocr/new_haven_allegations.txt\"),\n",
    "        sep=\"delimiter\",\n",
    "        header=None,\n",
    "        engine=\"python\",\n",
    "        index_col=False,\n",
    "    )\n",
    "    df = (\n",
    "        df\\\n",
    "        .rename(columns={df.columns[0]: \"data\"})\n",
    "        .pipe(match_names_w_badge_nos)\n",
    "    )\n",
    "    return df"
   ]
  },
  {
   "cell_type": "code",
   "execution_count": 73,
   "metadata": {},
   "outputs": [],
   "source": [
    "df_1 = df1()\n",
    "df_2 = df2()\n",
    "\n",
    "def concat(dfa, dfb):\n",
    "    dfs = [dfa, dfb]\n",
    "    df = pd.concat(dfs, axis=0)\n",
    "    return df\n",
    "\n",
    "dfa = concat(df_1, df_2)"
   ]
  },
  {
   "cell_type": "code",
   "execution_count": 74,
   "metadata": {},
   "outputs": [
    {
     "data": {
      "text/html": [
       "<div>\n",
       "<style scoped>\n",
       "    .dataframe tbody tr th:only-of-type {\n",
       "        vertical-align: middle;\n",
       "    }\n",
       "\n",
       "    .dataframe tbody tr th {\n",
       "        vertical-align: top;\n",
       "    }\n",
       "\n",
       "    .dataframe thead th {\n",
       "        text-align: right;\n",
       "    }\n",
       "</style>\n",
       "<table border=\"1\" class=\"dataframe\">\n",
       "  <thead>\n",
       "    <tr style=\"text-align: right;\">\n",
       "      <th></th>\n",
       "      <th>officers</th>\n",
       "      <th>rank_desc</th>\n",
       "      <th>first_name</th>\n",
       "      <th>last_name</th>\n",
       "      <th>badge_no</th>\n",
       "    </tr>\n",
       "  </thead>\n",
       "  <tbody>\n",
       "    <tr>\n",
       "      <th>0</th>\n",
       "      <td>Internal Affairs Division (OIC)</td>\n",
       "      <td>NaN</td>\n",
       "      <td>internal</td>\n",
       "      <td>affairs</td>\n",
       "      <td>division (oic)</td>\n",
       "    </tr>\n",
       "    <tr>\n",
       "      <th>1</th>\n",
       "      <td>L AFFAIRS UNIT</td>\n",
       "      <td>NaN</td>\n",
       "      <td>l</td>\n",
       "      <td>affairs</td>\n",
       "      <td>unit</td>\n",
       "    </tr>\n",
       "    <tr>\n",
       "      <th>2</th>\n",
       "      <td>Internal Affairs Division (OIC)</td>\n",
       "      <td>NaN</td>\n",
       "      <td>internal</td>\n",
       "      <td>affairs</td>\n",
       "      <td>division (oic)</td>\n",
       "    </tr>\n",
       "    <tr>\n",
       "      <th>3</th>\n",
       "      <td>L AFFAIRS UNIT</td>\n",
       "      <td>NaN</td>\n",
       "      <td>l</td>\n",
       "      <td>affairs</td>\n",
       "      <td>unit</td>\n",
       "    </tr>\n",
       "    <tr>\n",
       "      <th>4</th>\n",
       "      <td>Internal Affairs Division (OIC)</td>\n",
       "      <td>NaN</td>\n",
       "      <td>internal</td>\n",
       "      <td>affairs</td>\n",
       "      <td>division (oic)</td>\n",
       "    </tr>\n",
       "    <tr>\n",
       "      <th>...</th>\n",
       "      <td>...</td>\n",
       "      <td>...</td>\n",
       "      <td>...</td>\n",
       "      <td>...</td>\n",
       "      <td>...</td>\n",
       "    </tr>\n",
       "    <tr>\n",
       "      <th>17351</th>\n",
       "      <td>the subject he with was.</td>\n",
       "      <td>officer</td>\n",
       "      <td>zullo</td>\n",
       "      <td>did</td>\n",
       "      <td>not recall having any contact with the juvenil...</td>\n",
       "    </tr>\n",
       "    <tr>\n",
       "      <th>17353</th>\n",
       "      <td>did not find any body-</td>\n",
       "      <td>officer</td>\n",
       "      <td>zullo</td>\n",
       "      <td>for</td>\n",
       "      <td>this incident he was found in</td>\n",
       "    </tr>\n",
       "    <tr>\n",
       "      <th>17354</th>\n",
       "      <td>iolation of Body-worn camera General order.</td>\n",
       "      <td>NaN</td>\n",
       "      <td>iolation</td>\n",
       "      <td>of</td>\n",
       "      <td>body-worn camera general order</td>\n",
       "    </tr>\n",
       "    <tr>\n",
       "      <th>17355</th>\n",
       "      <td>e Disposition:</td>\n",
       "      <td>NaN</td>\n",
       "      <td>e</td>\n",
       "      <td>disposition</td>\n",
       "      <td>: misconduct not based on initial complaint — ...</td>\n",
       "    </tr>\n",
       "    <tr>\n",
       "      <th>17356</th>\n",
       "      <td>e Date Closed: 6/18/2022\"</td>\n",
       "      <td>NaN</td>\n",
       "      <td>e</td>\n",
       "      <td>date</td>\n",
       "      <td>closed: 6/18/2022\"</td>\n",
       "    </tr>\n",
       "  </tbody>\n",
       "</table>\n",
       "<p>13415 rows × 5 columns</p>\n",
       "</div>"
      ],
      "text/plain": [
       "                                          officers rank_desc first_name  \\\n",
       "0                 Internal Affairs Division (OIC)        NaN   internal   \n",
       "1                                   L AFFAIRS UNIT       NaN          l   \n",
       "2                 Internal Affairs Division (OIC)        NaN   internal   \n",
       "3                                   L AFFAIRS UNIT       NaN          l   \n",
       "4                 Internal Affairs Division (OIC)        NaN   internal   \n",
       "...                                            ...       ...        ...   \n",
       "17351                    the subject he with was.    officer      zullo   \n",
       "17353                       did not find any body-   officer      zullo   \n",
       "17354  iolation of Body-worn camera General order.       NaN   iolation   \n",
       "17355                              e Disposition:        NaN          e   \n",
       "17356                    e Date Closed: 6/18/2022\"       NaN          e   \n",
       "\n",
       "         last_name                                           badge_no  \n",
       "0          affairs                                     division (oic)  \n",
       "1          affairs                                               unit  \n",
       "2          affairs                                     division (oic)  \n",
       "3          affairs                                               unit  \n",
       "4          affairs                                     division (oic)  \n",
       "...            ...                                                ...  \n",
       "17351          did  not recall having any contact with the juvenil...  \n",
       "17353          for                      this incident he was found in  \n",
       "17354           of                     body-worn camera general order  \n",
       "17355  disposition  : misconduct not based on initial complaint — ...  \n",
       "17356         date                                 closed: 6/18/2022\"  \n",
       "\n",
       "[13415 rows x 5 columns]"
      ]
     },
     "execution_count": 74,
     "metadata": {},
     "output_type": "execute_result"
    }
   ],
   "source": [
    "def split_rows_with_multiple_officers(df):\n",
    "    df = (\n",
    "        df.drop(\"officers\", axis=1)\n",
    "        .join(\n",
    "            df[\"officers\"]\n",
    "            .str.split(\",\", expand=True)\n",
    "            .stack()\n",
    "            .reset_index(level=1, drop=True)\n",
    "            .rename(\"officers\"),\n",
    "            how=\"outer\",\n",
    "        )\n",
    "        .reset_index(drop=True)\n",
    "    )\n",
    "    return df\n",
    "\n",
    "def split_names(df):\n",
    "    names = df.officers.str.lower().str.strip()\\\n",
    "        .str.replace(r\"officers?\\,\", \"officer\", regex=True)\\\n",
    "        .str.replace(r\"^ (\\w+)\", r\"\\1\", regex=True)\\\n",
    "        .str.replace(r\"(\\w+) $\", r\"\\1\", regex=True)\\\n",
    "        .str.replace(r\"\\.\", \"\", regex=True)\\\n",
    "        .str.replace(r\"(.+) (sgt|lt|officer|ca?pt)\\.?\", r\"\\2\", regex=True)\\\n",
    "        .str.replace(r\"\\blt\\b\", \"lieutenant\", regex=True)\\\n",
    "        .str.replace(r\"ca?pt\\b\", \"captain\", regex=True)\\\n",
    "        .str.replace(r\"det\\b\\.?\", \"detective\", regex=True)\\\n",
    "        .str.replace(r\"(sgt|\\bergeant\\b)\", \"sergeant\", regex=True)\\\n",
    "        .str.replace(r\"\\(s\\):\", \"\", regex=True).str.extract(r\"(officer|detective|lieutenant|captain|sergeant)?\\.? ?(\\w+) ?(?:(\\w+))? ?(.+)?\")\n",
    "    df.loc[:, \"rank_desc\"] = names[0]\n",
    "    df.loc[:, \"first_name\"] = names[1]\n",
    "    df.loc[:, \"last_name\"] = names[2]\n",
    "    df.loc[:, \"badge_no\"] = names[3]\n",
    "    return df\n",
    "\n",
    "def drop_rows_missing_names(df):\n",
    "    df.loc[:, \"officers\"] = df.officers.str.replace(r\"(\\w+) (\\w+) (\\w+) (\\w+) (\\w+) (.+)\", \"\", regex=True)\n",
    "    return df\n",
    "\n",
    "dfa = dfa.pipe(split_rows_with_multiple_officers).pipe(split_names).pipe(drop_rows_missing_names)\n",
    "\n",
    "dfa= dfa[~((dfa.officers.fillna(\"\") == \"\"))]\n",
    "\n",
    "search = dfa\n",
    "search\n",
    "\n",
    "# df.loc[:, [\"officers\", \"rank_desc\", \"first_name\", \"last_name\", \"badge_no\"]].iloc[200:250]"
   ]
  },
  {
   "cell_type": "code",
   "execution_count": 75,
   "metadata": {},
   "outputs": [],
   "source": [
    "def read_data():\n",
    "    df = pd.read_csv(\"../data/OK/aggregate_members_oathkeepers_cleaned.csv\")\n",
    "    return df "
   ]
  },
  {
   "cell_type": "code",
   "execution_count": 76,
   "metadata": {},
   "outputs": [],
   "source": [
    "dfb = read_data()"
   ]
  },
  {
   "cell_type": "code",
   "execution_count": 77,
   "metadata": {},
   "outputs": [],
   "source": [
    "dfb = dfb.fillna(\"\")"
   ]
  },
  {
   "cell_type": "code",
   "execution_count": 78,
   "metadata": {},
   "outputs": [
    {
     "data": {
      "text/plain": [
       "array(['wy', 'me', 'nm', 'nh', 'ok', 'nc', 'nj', 'ca', 'ga', 'vt', 'ak',\n",
       "       'id', 'ri', 'tx', 'pa', 'ne', 'ny', 'in', 'mt', 'or', 'wa', 'ma',\n",
       "       'al', 'va', 'il', 'nv', 'wi', 'fl', 'mi', 'oh', 'co', 'ct', 'sc',\n",
       "       'la', 'ia', 'ar', 'az', 'tn', 'ut', 'ks', 'ky', 'mn', 'wa.', 'mo',\n",
       "       'md', 'hi', 'wv', 'ms', 'dc', 'de', 'sd', 'nd', 'ae', '', 'canada',\n",
       "       'grand island', 'sacramento', 'thailand', 'ne.', 'fl  (az)', 'ma.',\n",
       "       'la.', 'n.y.', 'pa.', 'iowa', 'bc canada', '??', 'austraila pto',\n",
       "       'ap', 'lv', 'jacksonville', 'bc', 'oslo', 'alberta, canada',\n",
       "       'western australia', 'rl', 'carolina beach', '--', 'cn', 'pr',\n",
       "       'md�', 'florida', '9000', 'stewartstown', 'roosevelt',\n",
       "       'ca  nonono', 'e7n2v2', 'st croix', 'hamden', 'ontario',\n",
       "       '607ws/dow, unit: 15173, apo, ap 96205, united states',\n",
       "       'oh  start', 'mo  end', 'ny11580', '8724', 'ny11766', 'nc28773',\n",
       "       'sterling heights'], dtype=object)"
      ]
     },
     "execution_count": 78,
     "metadata": {},
     "output_type": "execute_result"
    }
   ],
   "source": [
    "dfb.loc[:, \"state\"] = dfb.state.str.lower().str.strip()\n",
    "dfb.state.unique()"
   ]
  },
  {
   "cell_type": "code",
   "execution_count": 79,
   "metadata": {},
   "outputs": [],
   "source": [
    "dfb = dfb[dfb.state.isin([\"ct\"])]\n",
    "dfb.loc[:, \"notes\"] = dfb.notes.str.lower().str.strip()"
   ]
  },
  {
   "cell_type": "code",
   "execution_count": 80,
   "metadata": {},
   "outputs": [],
   "source": [
    "dfb.loc[:, \"name\"] = dfb.first_name.fillna(\"\").str.cat(dfb.last_name.fillna(\"\"), sep=\" \")"
   ]
  },
  {
   "cell_type": "code",
   "execution_count": 81,
   "metadata": {},
   "outputs": [
    {
     "data": {
      "text/html": [
       "<div>\n",
       "<style scoped>\n",
       "    .dataframe tbody tr th:only-of-type {\n",
       "        vertical-align: middle;\n",
       "    }\n",
       "\n",
       "    .dataframe tbody tr th {\n",
       "        vertical-align: top;\n",
       "    }\n",
       "\n",
       "    .dataframe thead th {\n",
       "        text-align: right;\n",
       "    }\n",
       "</style>\n",
       "<table border=\"1\" class=\"dataframe\">\n",
       "  <thead>\n",
       "    <tr style=\"text-align: right;\">\n",
       "      <th></th>\n",
       "      <th>id_number</th>\n",
       "      <th>group_name</th>\n",
       "      <th>bool</th>\n",
       "      <th>city</th>\n",
       "      <th>state</th>\n",
       "      <th>email</th>\n",
       "      <th>undefined_date</th>\n",
       "      <th>notes</th>\n",
       "      <th>first_name</th>\n",
       "      <th>middle_name</th>\n",
       "      <th>last_name</th>\n",
       "      <th>name</th>\n",
       "    </tr>\n",
       "  </thead>\n",
       "  <tbody>\n",
       "    <tr>\n",
       "      <th>32726</th>\n",
       "      <td>35403</td>\n",
       "      <td>Annual</td>\n",
       "      <td>No</td>\n",
       "      <td>Bristol, CT 06010</td>\n",
       "      <td>ct</td>\n",
       "      <td>joeyr8273@gmail.com</td>\n",
       "      <td>11.06.2016</td>\n",
       "      <td></td>\n",
       "      <td>joey</td>\n",
       "      <td></td>\n",
       "      <td>reynolds</td>\n",
       "      <td>joey reynolds</td>\n",
       "    </tr>\n",
       "    <tr>\n",
       "      <th>34461</th>\n",
       "      <td>37195</td>\n",
       "      <td>Annual</td>\n",
       "      <td>No</td>\n",
       "      <td>Danielson, CT 06239</td>\n",
       "      <td>ct</td>\n",
       "      <td>jbrj1971@outlook.com</td>\n",
       "      <td>10.17.2017</td>\n",
       "      <td></td>\n",
       "      <td>john</td>\n",
       "      <td></td>\n",
       "      <td>reynolds</td>\n",
       "      <td>john reynolds</td>\n",
       "    </tr>\n",
       "  </tbody>\n",
       "</table>\n",
       "</div>"
      ],
      "text/plain": [
       "      id_number group_name bool                 city state  \\\n",
       "32726     35403     Annual   No    Bristol, CT 06010    ct   \n",
       "34461     37195     Annual   No  Danielson, CT 06239    ct   \n",
       "\n",
       "                      email undefined_date notes first_name middle_name  \\\n",
       "32726   joeyr8273@gmail.com     11.06.2016             joey               \n",
       "34461  jbrj1971@outlook.com     10.17.2017             john               \n",
       "\n",
       "      last_name           name  \n",
       "32726  reynolds  joey reynolds  \n",
       "34461  reynolds  john reynolds  "
      ]
     },
     "execution_count": 81,
     "metadata": {},
     "output_type": "execute_result"
    }
   ],
   "source": [
    "search_1 = dfb[dfb.name.str.contains(\"reynolds\")]\n",
    "search_1"
   ]
  },
  {
   "cell_type": "code",
   "execution_count": 82,
   "metadata": {},
   "outputs": [
    {
     "data": {
      "text/plain": [
       "array([\"former corrections officer state of connecticut. sirs, i am surprised that this group of men and women have not been included in you list of memberships!! of all people, these are 'frontline' americans ~have no doubt~ consider including1000's of them\",\n",
       "       'many of my patients are police officers, troopers, fbi agents, cia and in the military. i have the ability to spread the word of this organization to my patients. i showed 2 troopers this week the web link.',\n",
       "       'naval submarine base sub school staff. medically retired 1/18/1980. i was also a volunteer firefighter for 19 years emt for 11 years and an animal control officer for 20 + years.',\n",
       "       'served as an nbc officer, supply officer and training officer. instructor for command and general staff college for the last ten years of service. police officer in hartford ct for 10 years.',\n",
       "       'ct state certified fire fighter , ct state haz mat technician, medical response technician, information technology security specialist, nra instructor - pistol, rile, shotgun, personal protection outside and inside the home, nra chief range safety officer, ro instructor,'],\n",
       "      dtype=object)"
      ]
     },
     "execution_count": 82,
     "metadata": {},
     "output_type": "execute_result"
    }
   ],
   "source": [
    "search_2 = dfb[dfb.notes.str.contains(\"officer\")]\n",
    "search_2.notes.unique()"
   ]
  },
  {
   "cell_type": "code",
   "execution_count": 83,
   "metadata": {},
   "outputs": [],
   "source": [
    "# dfs = [search_1, search_2]\n",
    "# dfb = pd.concat(dfs, axis=0)\n",
    "# dfb"
   ]
  },
  {
   "cell_type": "code",
   "execution_count": 84,
   "metadata": {},
   "outputs": [
    {
     "data": {
      "text/plain": [
       "Index(['id_number', 'group_name', 'bool', 'city', 'state', 'email',\n",
       "       'undefined_date', 'notes', 'first_name', 'middle_name', 'last_name',\n",
       "       'name'],\n",
       "      dtype='object')"
      ]
     },
     "execution_count": 84,
     "metadata": {},
     "output_type": "execute_result"
    }
   ],
   "source": [
    "dfb.columns"
   ]
  },
  {
   "cell_type": "code",
   "execution_count": 85,
   "metadata": {},
   "outputs": [],
   "source": [
    "\n",
    "def match_ok_names_to_personnel(agency, ok):\n",
    "    dfa = agency[[\"first_name\", \"last_name\"]]\n",
    "    dfa[\"notes\"] = \"\"\n",
    "    dfa.loc[:, \"name\"] = dfa.first_name.fillna(\"\").str.cat(dfa.last_name.fillna(\"\"), sep=\" \")\n",
    "    dfa.loc[:, \"fc\"] = dfa.name.fillna(\"\").map(lambda x: x[:1])\n",
    "\n",
    "\n",
    "    dfb = ok[[\"first_name\", \"last_name\", \"notes\"]]\n",
    "    dfb.loc[:, \"name\"] = dfb.first_name.fillna(\"\").str.cat(dfb.last_name.fillna(\"\"), sep=\" \")\n",
    "    dfb.loc[:, \"fc\"] = dfb.name.fillna(\"\").map(lambda x: x[:1])\n",
    "\n",
    "    matcher = ThresholdMatcher(\n",
    "        ColumnsIndex([\"fc\"]),\n",
    "        {\n",
    "            \"name\": JaroWinklerSimilarity(),\n",
    "        },\n",
    "        dfa,\n",
    "        dfb,\n",
    "    )\n",
    "    decision = 0.800\n",
    "    matcher.save_pairs_to_excel(\n",
    "        (\"../data/CT/oathkeeper_names_v_CT_misconduct_data.xlsx\"), decision\n",
    "    )\n",
    "    return matcher\n"
   ]
  },
  {
   "cell_type": "code",
   "execution_count": 86,
   "metadata": {},
   "outputs": [
    {
     "name": "stderr",
     "output_type": "stream",
     "text": [
      "C:\\Users\\PC\\AppData\\Local\\Temp\\ipykernel_7636\\4211454288.py:3: SettingWithCopyWarning: \n",
      "A value is trying to be set on a copy of a slice from a DataFrame.\n",
      "Try using .loc[row_indexer,col_indexer] = value instead\n",
      "\n",
      "See the caveats in the documentation: https://pandas.pydata.org/pandas-docs/stable/user_guide/indexing.html#returning-a-view-versus-a-copy\n",
      "  dfa[\"notes\"] = \"\"\n",
      "C:\\Users\\PC\\AppData\\Local\\Temp\\ipykernel_7636\\4211454288.py:4: SettingWithCopyWarning: \n",
      "A value is trying to be set on a copy of a slice from a DataFrame.\n",
      "Try using .loc[row_indexer,col_indexer] = value instead\n",
      "\n",
      "See the caveats in the documentation: https://pandas.pydata.org/pandas-docs/stable/user_guide/indexing.html#returning-a-view-versus-a-copy\n",
      "  dfa.loc[:, \"name\"] = dfa.first_name.fillna(\"\").str.cat(dfa.last_name.fillna(\"\"), sep=\" \")\n",
      "C:\\Users\\PC\\AppData\\Local\\Temp\\ipykernel_7636\\4211454288.py:9: SettingWithCopyWarning: \n",
      "A value is trying to be set on a copy of a slice from a DataFrame.\n",
      "Try using .loc[row_indexer,col_indexer] = value instead\n",
      "\n",
      "See the caveats in the documentation: https://pandas.pydata.org/pandas-docs/stable/user_guide/indexing.html#returning-a-view-versus-a-copy\n",
      "  dfb.loc[:, \"name\"] = dfb.first_name.fillna(\"\").str.cat(dfb.last_name.fillna(\"\"), sep=\" \")\n",
      "C:\\Users\\PC\\AppData\\Local\\Temp\\ipykernel_7636\\4211454288.py:10: SettingWithCopyWarning: \n",
      "A value is trying to be set on a copy of a slice from a DataFrame.\n",
      "Try using .loc[row_indexer,col_indexer] = value instead\n",
      "\n",
      "See the caveats in the documentation: https://pandas.pydata.org/pandas-docs/stable/user_guide/indexing.html#returning-a-view-versus-a-copy\n",
      "  dfb.loc[:, \"fc\"] = dfb.name.fillna(\"\").map(lambda x: x[:1])\n"
     ]
    }
   ],
   "source": [
    "match = match_ok_names_to_personnel(dfa, dfb)"
   ]
  },
  {
   "cell_type": "code",
   "execution_count": null,
   "metadata": {},
   "outputs": [],
   "source": [
    "# def read_matches():\n",
    "#     df = pd.read_excel(\"\")\n",
    "#     return df "
   ]
  },
  {
   "cell_type": "code",
   "execution_count": null,
   "metadata": {},
   "outputs": [],
   "source": [
    "# matches = read_matches()"
   ]
  },
  {
   "cell_type": "code",
   "execution_count": null,
   "metadata": {},
   "outputs": [],
   "source": [
    "# matches"
   ]
  }
 ],
 "metadata": {
  "kernelspec": {
   "display_name": "Python 3.10.8 64-bit (microsoft store)",
   "language": "python",
   "name": "python3"
  },
  "language_info": {
   "codemirror_mode": {
    "name": "ipython",
    "version": 3
   },
   "file_extension": ".py",
   "mimetype": "text/x-python",
   "name": "python",
   "nbconvert_exporter": "python",
   "pygments_lexer": "ipython3",
   "version": "3.10.8"
  },
  "orig_nbformat": 4,
  "vscode": {
   "interpreter": {
    "hash": "23f823caeccb1684f6bd50492b68bb5eab208de0408f39b2457c6a38c0e8e818"
   }
  }
 },
 "nbformat": 4,
 "nbformat_minor": 2
}
