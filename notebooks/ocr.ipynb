{
 "cells": [
  {
   "cell_type": "code",
   "execution_count": 1,
   "metadata": {},
   "outputs": [],
   "source": [
    "from wand.image import Image as WImage\n",
    "from wand.color import Color\n",
    "from wand.api import library\n",
    "from PIL import Image as PI\n",
    "import io\n",
    "import os\n",
    "import pyocr\n",
    "import pyocr.builders\n",
    "import pandas as pd\n",
    "import re\n",
    "import os\n",
    "from datamatch import (\n",
    "    JaroWinklerSimilarity,\n",
    "    ThresholdMatcher,\n",
    "    ColumnsIndex,\n",
    ")"
   ]
  },
  {
   "cell_type": "code",
   "execution_count": 2,
   "metadata": {},
   "outputs": [],
   "source": [
    "# def ocr_pdfs():\n",
    "#     pyocr.tesseract.TESSERACT_CMD = r\"C:/Program Files/Tesseract-OCR/tesseract.exe\"\n",
    "#     dir_path = os.chdir(\"C:/Users/PC/Desktop/keepers/ok/data/CT/pdfs\")\n",
    "#     for file in os.listdir(dir_path):\n",
    "#         if file.endswith(\".pdf\"):\n",
    "#             tools = pyocr.get_available_tools()\n",
    "#             if len(tools) == 0:\n",
    "#                 raise Exception(\"No tool available\")\n",
    "\n",
    "#             tool = tools[0]\n",
    "#             print(\"Will use tool '%s'\" % (tool.get_name()))\n",
    "#             langs = tool.get_available_languages()\n",
    "#             print(\"Available languages: %s\" % \", \".join(langs))\n",
    "#             lang = langs[0]  # For English\n",
    "#             print(\"Will use language '%s'\" % (lang))\n",
    "\n",
    "#             req_image = []\n",
    "#             final_text = {}\n",
    "\n",
    "#             with WImage(filename=file, resolution=300) as image_pdf:\n",
    "#                 image_jpeg = image_pdf.convert(\"pdf\")\n",
    "\n",
    "#             try:\n",
    "#                 for img in image_jpeg.sequence:\n",
    "#                     img_page = WImage(image=img)\n",
    "#                     req_image.append(img_page.make_blob(\"jpeg\"))\n",
    "#             finally:\n",
    "#                 image_jpeg.destroy()\n",
    "\n",
    "#             i = 0\n",
    "#             for img in req_image:\n",
    "#                 txt = tool.image_to_string(\n",
    "#                     PI.open(io.BytesIO(img)),\n",
    "#                     lang=lang,\n",
    "#                     builder=pyocr.builders.TextBuilder(),\n",
    "#                 )\n",
    "#                 final_text[str(i)] = txt\n",
    "#                 i += 1\n",
    "\n",
    "#             text = final_text.items()\n",
    "#             df = pd.DataFrame(text)\n",
    "#             file_name = file + \".txt\"\n",
    "#             path = r\"C:/Users/PC/Desktop/keepers/ok/data/CT/ocr/\"\n",
    "#             df.to_csv(path + file_name)\n",
    "#     return df"
   ]
  },
  {
   "cell_type": "code",
   "execution_count": 3,
   "metadata": {},
   "outputs": [],
   "source": [
    "# write = ocr_pdfs()"
   ]
  },
  {
   "cell_type": "code",
   "execution_count": 4,
   "metadata": {},
   "outputs": [],
   "source": [
    "# to join OCR'd txt files: 1) cd into directory, 2) enter the command 'copy *.txt new_haven_allegations(or any filename).txt'"
   ]
  },
  {
   "cell_type": "code",
   "execution_count": 5,
   "metadata": {},
   "outputs": [],
   "source": []
  },
  {
   "cell_type": "code",
   "execution_count": 6,
   "metadata": {},
   "outputs": [],
   "source": []
  },
  {
   "cell_type": "code",
   "execution_count": 7,
   "metadata": {},
   "outputs": [
    {
     "data": {
      "text/plain": [
       "'c:\\\\Users\\\\PC\\\\Desktop\\\\keepers\\\\ok\\\\notebooks'"
      ]
     },
     "execution_count": 7,
     "metadata": {},
     "output_type": "execute_result"
    }
   ],
   "source": [
    "import os\n",
    "os.getcwd()"
   ]
  },
  {
   "cell_type": "code",
   "execution_count": 8,
   "metadata": {},
   "outputs": [],
   "source": []
  },
  {
   "cell_type": "code",
   "execution_count": 9,
   "metadata": {},
   "outputs": [],
   "source": []
  },
  {
   "cell_type": "code",
   "execution_count": 10,
   "metadata": {},
   "outputs": [],
   "source": []
  },
  {
   "cell_type": "code",
   "execution_count": 11,
   "metadata": {},
   "outputs": [],
   "source": []
  },
  {
   "cell_type": "code",
   "execution_count": 12,
   "metadata": {},
   "outputs": [],
   "source": []
  },
  {
   "cell_type": "code",
   "execution_count": 13,
   "metadata": {},
   "outputs": [],
   "source": []
  },
  {
   "cell_type": "code",
   "execution_count": 17,
   "metadata": {},
   "outputs": [
    {
     "data": {
      "text/html": [
       "<div>\n",
       "<style scoped>\n",
       "    .dataframe tbody tr th:only-of-type {\n",
       "        vertical-align: middle;\n",
       "    }\n",
       "\n",
       "    .dataframe tbody tr th {\n",
       "        vertical-align: top;\n",
       "    }\n",
       "\n",
       "    .dataframe thead th {\n",
       "        text-align: right;\n",
       "    }\n",
       "</style>\n",
       "<table border=\"1\" class=\"dataframe\">\n",
       "  <thead>\n",
       "    <tr style=\"text-align: right;\">\n",
       "      <th></th>\n",
       "      <th>rank_desc</th>\n",
       "      <th>first_name</th>\n",
       "      <th>last_name</th>\n",
       "      <th>badge_no</th>\n",
       "      <th>officers</th>\n",
       "    </tr>\n",
       "  </thead>\n",
       "  <tbody>\n",
       "    <tr>\n",
       "      <th>0</th>\n",
       "      <td>NaN</td>\n",
       "      <td>internal</td>\n",
       "      <td>affairs</td>\n",
       "      <td>division (oic)</td>\n",
       "      <td>Internal Affairs Division (OIC)</td>\n",
       "    </tr>\n",
       "    <tr>\n",
       "      <th>1</th>\n",
       "      <td>NaN</td>\n",
       "      <td>l</td>\n",
       "      <td>affairs</td>\n",
       "      <td>unit</td>\n",
       "      <td>L AFFAIRS UNIT</td>\n",
       "    </tr>\n",
       "    <tr>\n",
       "      <th>2</th>\n",
       "      <td>NaN</td>\n",
       "      <td>internal</td>\n",
       "      <td>affairs</td>\n",
       "      <td>division (oic)</td>\n",
       "      <td>Internal Affairs Division (OIC)</td>\n",
       "    </tr>\n",
       "    <tr>\n",
       "      <th>3</th>\n",
       "      <td>NaN</td>\n",
       "      <td>l</td>\n",
       "      <td>affairs</td>\n",
       "      <td>unit</td>\n",
       "      <td>L AFFAIRS UNIT</td>\n",
       "    </tr>\n",
       "    <tr>\n",
       "      <th>4</th>\n",
       "      <td>NaN</td>\n",
       "      <td>internal</td>\n",
       "      <td>affairs</td>\n",
       "      <td>division (oic)</td>\n",
       "      <td>Internal Affairs Division (OIC)</td>\n",
       "    </tr>\n",
       "    <tr>\n",
       "      <th>...</th>\n",
       "      <td>...</td>\n",
       "      <td>...</td>\n",
       "      <td>...</td>\n",
       "      <td>...</td>\n",
       "      <td>...</td>\n",
       "    </tr>\n",
       "    <tr>\n",
       "      <th>13410</th>\n",
       "      <td>NaN</td>\n",
       "      <td>the</td>\n",
       "      <td>subject</td>\n",
       "      <td>he with was</td>\n",
       "      <td>the subject he with was.</td>\n",
       "    </tr>\n",
       "    <tr>\n",
       "      <th>13411</th>\n",
       "      <td>NaN</td>\n",
       "      <td>did</td>\n",
       "      <td>not</td>\n",
       "      <td>find any body-</td>\n",
       "      <td>did not find any body-</td>\n",
       "    </tr>\n",
       "    <tr>\n",
       "      <th>13412</th>\n",
       "      <td>NaN</td>\n",
       "      <td>iolation</td>\n",
       "      <td>of</td>\n",
       "      <td>body-worn camera general order</td>\n",
       "      <td>iolation of Body-worn camera General order.</td>\n",
       "    </tr>\n",
       "    <tr>\n",
       "      <th>13413</th>\n",
       "      <td>NaN</td>\n",
       "      <td>e</td>\n",
       "      <td>disposition</td>\n",
       "      <td>:</td>\n",
       "      <td>e Disposition:</td>\n",
       "    </tr>\n",
       "    <tr>\n",
       "      <th>13414</th>\n",
       "      <td>NaN</td>\n",
       "      <td>e</td>\n",
       "      <td>date</td>\n",
       "      <td>closed: 6/18/2022\"</td>\n",
       "      <td>e Date Closed: 6/18/2022\"</td>\n",
       "    </tr>\n",
       "  </tbody>\n",
       "</table>\n",
       "<p>13415 rows × 5 columns</p>\n",
       "</div>"
      ],
      "text/plain": [
       "      rank_desc first_name    last_name                        badge_no  \\\n",
       "0           NaN   internal      affairs                  division (oic)   \n",
       "1           NaN          l      affairs                            unit   \n",
       "2           NaN   internal      affairs                  division (oic)   \n",
       "3           NaN          l      affairs                            unit   \n",
       "4           NaN   internal      affairs                  division (oic)   \n",
       "...         ...        ...          ...                             ...   \n",
       "13410       NaN        the      subject                     he with was   \n",
       "13411       NaN        did          not                  find any body-   \n",
       "13412       NaN   iolation           of  body-worn camera general order   \n",
       "13413       NaN          e  disposition                               :   \n",
       "13414       NaN          e         date              closed: 6/18/2022\"   \n",
       "\n",
       "                                          officers  \n",
       "0                 Internal Affairs Division (OIC)   \n",
       "1                                   L AFFAIRS UNIT  \n",
       "2                 Internal Affairs Division (OIC)   \n",
       "3                                   L AFFAIRS UNIT  \n",
       "4                 Internal Affairs Division (OIC)   \n",
       "...                                            ...  \n",
       "13410                    the subject he with was.   \n",
       "13411                       did not find any body-  \n",
       "13412  iolation of Body-worn camera General order.  \n",
       "13413                              e Disposition:   \n",
       "13414                    e Date Closed: 6/18/2022\"  \n",
       "\n",
       "[13415 rows x 5 columns]"
      ]
     },
     "execution_count": 17,
     "metadata": {},
     "output_type": "execute_result"
    }
   ],
   "source": []
  },
  {
   "cell_type": "code",
   "execution_count": 15,
   "metadata": {},
   "outputs": [],
   "source": [
    "# df.to_csv(\"../data/CT/ct_misconduct.csv\")"
   ]
  },
  {
   "cell_type": "code",
   "execution_count": 16,
   "metadata": {},
   "outputs": [],
   "source": [
    "# search = df[df.officers.str.contains(\"Vernik\")]\n",
    "# search"
   ]
  }
 ],
 "metadata": {
  "kernelspec": {
   "display_name": "Python 3.10.8 64-bit (microsoft store)",
   "language": "python",
   "name": "python3"
  },
  "language_info": {
   "codemirror_mode": {
    "name": "ipython",
    "version": 3
   },
   "file_extension": ".py",
   "mimetype": "text/x-python",
   "name": "python",
   "nbconvert_exporter": "python",
   "pygments_lexer": "ipython3",
   "version": "3.10.8"
  },
  "orig_nbformat": 4,
  "vscode": {
   "interpreter": {
    "hash": "23f823caeccb1684f6bd50492b68bb5eab208de0408f39b2457c6a38c0e8e818"
   }
  }
 },
 "nbformat": 4,
 "nbformat_minor": 2
}
