{
 "cells": [
  {
   "cell_type": "code",
   "execution_count": 150,
   "metadata": {},
   "outputs": [],
   "source": [
    "import pandas as pd\n",
    "from datamatch import (\n",
    "    JaroWinklerSimilarity,\n",
    "    ThresholdMatcher,\n",
    "    ColumnsIndex,\n",
    ")"
   ]
  },
  {
   "cell_type": "code",
   "execution_count": 151,
   "metadata": {},
   "outputs": [],
   "source": [
    "def read_data():\n",
    "    df = pd.read_csv(\"../data/OK/aggregate_members_oathkeepers_cleaned.csv\")\n",
    "    return df "
   ]
  },
  {
   "cell_type": "code",
   "execution_count": 152,
   "metadata": {},
   "outputs": [],
   "source": [
    "dfa = read_data()"
   ]
  },
  {
   "cell_type": "code",
   "execution_count": 153,
   "metadata": {},
   "outputs": [],
   "source": [
    "# dfa.state.unique()"
   ]
  },
  {
   "cell_type": "code",
   "execution_count": 154,
   "metadata": {},
   "outputs": [],
   "source": [
    "def standardize_state(df):\n",
    "    df.loc[:, \"state\"] = df.state.str.lower().str.strip()\n",
    "    return df"
   ]
  },
  {
   "cell_type": "code",
   "execution_count": 155,
   "metadata": {},
   "outputs": [],
   "source": [
    "dfa = dfa.pipe(standardize_state)\n",
    "dfa = dfa.fillna(\"\")"
   ]
  },
  {
   "cell_type": "code",
   "execution_count": 156,
   "metadata": {},
   "outputs": [],
   "source": [
    "dfa = dfa[dfa.state.isin([\"il\"])]\n",
    "dfa.loc[:, \"notes\"] = dfa.notes.str.lower().str.strip()"
   ]
  },
  {
   "cell_type": "code",
   "execution_count": 157,
   "metadata": {},
   "outputs": [
    {
     "data": {
      "text/plain": [
       "array(['experience in law enforcement and court procedures',\n",
       "       'in the military i was trained in law enforcement, field training, harbor security coxswain, force protection, physical security, and anti-terrorism.'],\n",
       "      dtype=object)"
      ]
     },
     "execution_count": 157,
     "metadata": {},
     "output_type": "execute_result"
    }
   ],
   "source": [
    "search_1 = dfa[dfa.notes.str.contains(\"law enforcement\")]\n",
    "search_1.notes.unique()"
   ]
  },
  {
   "cell_type": "code",
   "execution_count": null,
   "metadata": {},
   "outputs": [],
   "source": []
  },
  {
   "cell_type": "code",
   "execution_count": 158,
   "metadata": {},
   "outputs": [
    {
     "data": {
      "text/plain": [
       "array(['while serving as a police officer i was with the bomb disposal unit for 5 years. i was also a field training officer for 3 years.',\n",
       "       'active chicago police officer',\n",
       "       'graduate of the lincolnland police training center and illinois state police academy',\n",
       "       'military training, knowledge and enforcement of the ucmj. knowledge and enforcement of state and local laws.  graduate of fbi basic swat, and fbi advanced swat schools.  graduate of northwestern university school of police staff and command',\n",
       "       'i can stand armed shoulder to shoulder in defense of local police and any local areas. not very active due to medical and age but count me as a freedom advocate. i will uphold my oath to defend the constitution in any way shape or form.'],\n",
       "      dtype=object)"
      ]
     },
     "execution_count": 158,
     "metadata": {},
     "output_type": "execute_result"
    }
   ],
   "source": [
    "search_2 = dfa[dfa.notes.str.contains(\"police\")]\n",
    "search_2.notes.unique()"
   ]
  },
  {
   "cell_type": "code",
   "execution_count": 159,
   "metadata": {},
   "outputs": [],
   "source": [
    "search_3 = dfa[dfa.notes.str.contains(\"cpd\")]"
   ]
  },
  {
   "cell_type": "code",
   "execution_count": 160,
   "metadata": {},
   "outputs": [
    {
     "data": {
      "text/html": [
       "<div>\n",
       "<style scoped>\n",
       "    .dataframe tbody tr th:only-of-type {\n",
       "        vertical-align: middle;\n",
       "    }\n",
       "\n",
       "    .dataframe tbody tr th {\n",
       "        vertical-align: top;\n",
       "    }\n",
       "\n",
       "    .dataframe thead th {\n",
       "        text-align: right;\n",
       "    }\n",
       "</style>\n",
       "<table border=\"1\" class=\"dataframe\">\n",
       "  <thead>\n",
       "    <tr style=\"text-align: right;\">\n",
       "      <th></th>\n",
       "      <th>id_number</th>\n",
       "      <th>group_name</th>\n",
       "      <th>bool</th>\n",
       "      <th>city</th>\n",
       "      <th>state</th>\n",
       "      <th>email</th>\n",
       "      <th>undefined_date</th>\n",
       "      <th>notes</th>\n",
       "      <th>first_name</th>\n",
       "      <th>middle_name</th>\n",
       "      <th>last_name</th>\n",
       "    </tr>\n",
       "  </thead>\n",
       "  <tbody>\n",
       "  </tbody>\n",
       "</table>\n",
       "</div>"
      ],
      "text/plain": [
       "Empty DataFrame\n",
       "Columns: [id_number, group_name, bool, city, state, email, undefined_date, notes, first_name, middle_name, last_name]\n",
       "Index: []"
      ]
     },
     "execution_count": 160,
     "metadata": {},
     "output_type": "execute_result"
    }
   ],
   "source": [
    "search_4 = dfa[dfa.email.str.contains(\"cpd\")]\n",
    "search_4"
   ]
  },
  {
   "cell_type": "code",
   "execution_count": 161,
   "metadata": {},
   "outputs": [
    {
     "data": {
      "text/html": [
       "<div>\n",
       "<style scoped>\n",
       "    .dataframe tbody tr th:only-of-type {\n",
       "        vertical-align: middle;\n",
       "    }\n",
       "\n",
       "    .dataframe tbody tr th {\n",
       "        vertical-align: top;\n",
       "    }\n",
       "\n",
       "    .dataframe thead th {\n",
       "        text-align: right;\n",
       "    }\n",
       "</style>\n",
       "<table border=\"1\" class=\"dataframe\">\n",
       "  <thead>\n",
       "    <tr style=\"text-align: right;\">\n",
       "      <th></th>\n",
       "      <th>id_number</th>\n",
       "      <th>group_name</th>\n",
       "      <th>bool</th>\n",
       "      <th>city</th>\n",
       "      <th>state</th>\n",
       "      <th>email</th>\n",
       "      <th>undefined_date</th>\n",
       "      <th>notes</th>\n",
       "      <th>first_name</th>\n",
       "      <th>middle_name</th>\n",
       "      <th>last_name</th>\n",
       "    </tr>\n",
       "  </thead>\n",
       "  <tbody>\n",
       "    <tr>\n",
       "      <th>28181</th>\n",
       "      <td>30766</td>\n",
       "      <td>Annual</td>\n",
       "      <td>No</td>\n",
       "      <td>joliet</td>\n",
       "      <td>il</td>\n",
       "      <td>tact32910@gmail.com</td>\n",
       "      <td>42194.93677</td>\n",
       "      <td>experience in law enforcement and court proced...</td>\n",
       "      <td>megan</td>\n",
       "      <td>elizabeth</td>\n",
       "      <td>gleason</td>\n",
       "    </tr>\n",
       "    <tr>\n",
       "      <th>32158</th>\n",
       "      <td>34801</td>\n",
       "      <td>Annual</td>\n",
       "      <td>No</td>\n",
       "      <td>chicago</td>\n",
       "      <td>il</td>\n",
       "      <td>navypeter@hotmail.com</td>\n",
       "      <td>42581.90818</td>\n",
       "      <td>in the military i was trained in law enforceme...</td>\n",
       "      <td>peter</td>\n",
       "      <td></td>\n",
       "      <td>kollias</td>\n",
       "    </tr>\n",
       "    <tr>\n",
       "      <th>5370</th>\n",
       "      <td>2403</td>\n",
       "      <td>Annual</td>\n",
       "      <td>No</td>\n",
       "      <td>Forreston</td>\n",
       "      <td>il</td>\n",
       "      <td>ilike_panheads@yahoo.com</td>\n",
       "      <td></td>\n",
       "      <td>while serving as a police officer i was with t...</td>\n",
       "      <td>lincoln</td>\n",
       "      <td>e</td>\n",
       "      <td>eads</td>\n",
       "    </tr>\n",
       "    <tr>\n",
       "      <th>5441</th>\n",
       "      <td>2482</td>\n",
       "      <td>Annual</td>\n",
       "      <td>No</td>\n",
       "      <td>Glen Carbon</td>\n",
       "      <td>il</td>\n",
       "      <td>bobandruth5@gmail.com</td>\n",
       "      <td></td>\n",
       "      <td>active chicago police officer</td>\n",
       "      <td>bob</td>\n",
       "      <td></td>\n",
       "      <td>davis</td>\n",
       "    </tr>\n",
       "    <tr>\n",
       "      <th>21594</th>\n",
       "      <td>24995</td>\n",
       "      <td>Annual</td>\n",
       "      <td>No</td>\n",
       "      <td>Decatur</td>\n",
       "      <td>il</td>\n",
       "      <td>Tom-Michael@comcast.net</td>\n",
       "      <td>11/20/2013</td>\n",
       "      <td>graduate of the lincolnland police training ce...</td>\n",
       "      <td>thomas</td>\n",
       "      <td>p</td>\n",
       "      <td>michael</td>\n",
       "    </tr>\n",
       "    <tr>\n",
       "      <th>29781</th>\n",
       "      <td>32389</td>\n",
       "      <td>Annual</td>\n",
       "      <td>No</td>\n",
       "      <td>Winnebago</td>\n",
       "      <td>il</td>\n",
       "      <td>aaron.app2010@yahoo.com</td>\n",
       "      <td>42264.76321</td>\n",
       "      <td>military training, knowledge and enforcement o...</td>\n",
       "      <td>aaron</td>\n",
       "      <td>d</td>\n",
       "      <td>booker</td>\n",
       "    </tr>\n",
       "    <tr>\n",
       "      <th>32008</th>\n",
       "      <td>34650</td>\n",
       "      <td>Annual</td>\n",
       "      <td>No</td>\n",
       "      <td>Plainfield</td>\n",
       "      <td>il</td>\n",
       "      <td>RoyIvey@yahoo.com</td>\n",
       "      <td>42559.60843</td>\n",
       "      <td>i can stand armed shoulder to shoulder in defe...</td>\n",
       "      <td>roy</td>\n",
       "      <td>leon</td>\n",
       "      <td>ivey</td>\n",
       "    </tr>\n",
       "  </tbody>\n",
       "</table>\n",
       "</div>"
      ],
      "text/plain": [
       "      id_number group_name bool         city state                     email  \\\n",
       "28181     30766     Annual   No       joliet    il       tact32910@gmail.com   \n",
       "32158     34801     Annual   No      chicago    il     navypeter@hotmail.com   \n",
       "5370       2403     Annual   No    Forreston    il  ilike_panheads@yahoo.com   \n",
       "5441       2482     Annual   No  Glen Carbon    il     bobandruth5@gmail.com   \n",
       "21594     24995     Annual   No      Decatur    il   Tom-Michael@comcast.net   \n",
       "29781     32389     Annual   No    Winnebago    il   aaron.app2010@yahoo.com   \n",
       "32008     34650     Annual   No   Plainfield    il         RoyIvey@yahoo.com   \n",
       "\n",
       "      undefined_date                                              notes  \\\n",
       "28181    42194.93677  experience in law enforcement and court proced...   \n",
       "32158    42581.90818  in the military i was trained in law enforceme...   \n",
       "5370                  while serving as a police officer i was with t...   \n",
       "5441                                      active chicago police officer   \n",
       "21594     11/20/2013  graduate of the lincolnland police training ce...   \n",
       "29781    42264.76321  military training, knowledge and enforcement o...   \n",
       "32008    42559.60843  i can stand armed shoulder to shoulder in defe...   \n",
       "\n",
       "      first_name middle_name last_name  \n",
       "28181      megan   elizabeth   gleason  \n",
       "32158      peter               kollias  \n",
       "5370     lincoln           e      eads  \n",
       "5441         bob                 davis  \n",
       "21594     thomas           p   michael  \n",
       "29781      aaron           d    booker  \n",
       "32008        roy        leon      ivey  "
      ]
     },
     "execution_count": 161,
     "metadata": {},
     "output_type": "execute_result"
    }
   ],
   "source": [
    "dfs = [search_1, search_2, search_3, search_4]\n",
    "dfb = pd.concat(dfs, axis=0)\n",
    "dfb"
   ]
  },
  {
   "cell_type": "code",
   "execution_count": null,
   "metadata": {},
   "outputs": [],
   "source": [
    "##### get data "
   ]
  },
  {
   "cell_type": "code",
   "execution_count": 162,
   "metadata": {},
   "outputs": [],
   "source": [
    "def read_misconduct_data():\n",
    "    df = pd.read_csv(\"\")\n",
    "    return df"
   ]
  },
  {
   "cell_type": "code",
   "execution_count": null,
   "metadata": {},
   "outputs": [],
   "source": [
    "dfc = read_misconduct_data()"
   ]
  },
  {
   "cell_type": "code",
   "execution_count": null,
   "metadata": {},
   "outputs": [],
   "source": [
    "# dfc = dfc.rename(columns={\"LastName\": \"last_name\", \"FirstName\": \"first_name\"})"
   ]
  },
  {
   "cell_type": "code",
   "execution_count": null,
   "metadata": {},
   "outputs": [],
   "source": [
    "\n",
    "def match_ok_names_to_personnel(ok, agency):\n",
    "    dfa = ok[[\"first_name\", \"last_name\"]]\n",
    "    dfa.loc[:, \"first_name\"] = dfa.first_name.str.lower().str.strip()\n",
    "    dfa.loc[:, \"last_name\"] = dfa.last_name.str.lower().str.strip()\n",
    "\n",
    "\n",
    "    dfb = agency[[\"first_name\", \"last_name\"]]\n",
    "    dfb.loc[:, \"first_name\"] = dfb.first_name.str.lower().str.strip()\n",
    "    dfb.loc[:, \"last_name\"] = dfb.last_name.str.lower().str.strip()\n",
    "\n",
    "    matcher = ThresholdMatcher(\n",
    "        ColumnsIndex([]),\n",
    "        {\n",
    "            \"first_name\": JaroWinklerSimilarity(),\n",
    "            \"last_name\": JaroWinklerSimilarity(),\n",
    "        },\n",
    "        dfa,\n",
    "        dfb,\n",
    "    )\n",
    "    decision = 0.800\n",
    "    matcher.save_pairs_to_excel(\n",
    "        (\"../data/NY/oathkeeper_names_v_chicago_misconduct_data.xlsx\"), decision\n",
    "    )\n",
    "    return matcher\n"
   ]
  },
  {
   "cell_type": "code",
   "execution_count": null,
   "metadata": {},
   "outputs": [],
   "source": [
    "match = match_ok_names_to_personnel(dfb, dfc)"
   ]
  },
  {
   "cell_type": "code",
   "execution_count": null,
   "metadata": {},
   "outputs": [],
   "source": [
    "def read_matches():\n",
    "    df = pd.read_excel(\"../data/NY/oathkeeper_names_v_chicagoo_misconduct_data.xlsx\")\n",
    "    return df "
   ]
  },
  {
   "cell_type": "code",
   "execution_count": null,
   "metadata": {},
   "outputs": [],
   "source": [
    "matches = read_matches()"
   ]
  },
  {
   "cell_type": "code",
   "execution_count": null,
   "metadata": {},
   "outputs": [],
   "source": [
    "matches"
   ]
  }
 ],
 "metadata": {
  "kernelspec": {
   "display_name": "Python 3.10.8 64-bit (microsoft store)",
   "language": "python",
   "name": "python3"
  },
  "language_info": {
   "codemirror_mode": {
    "name": "ipython",
    "version": 3
   },
   "file_extension": ".py",
   "mimetype": "text/x-python",
   "name": "python",
   "nbconvert_exporter": "python",
   "pygments_lexer": "ipython3",
   "version": "3.10.9 (tags/v3.10.9:1dd9be6, Dec  6 2022, 20:01:21) [MSC v.1934 64 bit (AMD64)]"
  },
  "orig_nbformat": 4,
  "vscode": {
   "interpreter": {
    "hash": "23f823caeccb1684f6bd50492b68bb5eab208de0408f39b2457c6a38c0e8e818"
   }
  }
 },
 "nbformat": 4,
 "nbformat_minor": 2
}
