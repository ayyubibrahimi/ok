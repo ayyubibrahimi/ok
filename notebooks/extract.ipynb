{
 "cells": [
  {
   "cell_type": "code",
   "execution_count": 22,
   "metadata": {},
   "outputs": [],
   "source": [
    "import pandas as pd\n",
    "import re"
   ]
  },
  {
   "cell_type": "code",
   "execution_count": 23,
   "metadata": {},
   "outputs": [],
   "source": [
    "    \n",
    "def match_names(df):\n",
    "    df = df.astype(str)\n",
    "    df[\"names\"] = \" \".join(row for row in df[\"data\"])\n",
    "    names = df[\"names\"][0]\n",
    "    df = df.drop_duplicates(subset=[\"names\"])\n",
    "    \n",
    "    NAME1 = r\"[A-Z][a-z]+,?\\s+\"\n",
    "    NAME2 = r\"[A-Z][a-z]+\\s+\"\n",
    "\n",
    "    result = re.findall(NAME1 + NAME2, names)\n",
    "    df = pd.DataFrame(result, columns=[\"name\"])\n",
    "    return df\n",
    "    \n",
    "def read_txt_f():\n",
    "    df = pd.read_csv(\n",
    "        (\"../data/MA/misconduct/nacdl/Dartmouth/IIU/cprr_dartmouth_2013_2022.pdf.txt\"),\n",
    "        sep=\"delimiter\",\n",
    "        header=None,\n",
    "        engine=\"python\",\n",
    "        index_col=False,\n",
    "    )\n",
    "    df = (\n",
    "        df\\\n",
    "        .rename(columns={df.columns[0]: \"data\"})\n",
    "        .pipe(match_names)\n",
    "    )\n",
    "    return df"
   ]
  },
  {
   "cell_type": "code",
   "execution_count": 24,
   "metadata": {},
   "outputs": [],
   "source": [
    "df = read_txt_f()"
   ]
  },
  {
   "cell_type": "code",
   "execution_count": 25,
   "metadata": {},
   "outputs": [],
   "source": [
    "df.to_csv(\"../data/MA/misconduct/nacdl/Dartmouth/IIU/cprr_dartmouth_2013_2022.csv\", index=False)"
   ]
  }
 ],
 "metadata": {
  "kernelspec": {
   "display_name": "Python 3.10.8 64-bit (microsoft store)",
   "language": "python",
   "name": "python3"
  },
  "language_info": {
   "codemirror_mode": {
    "name": "ipython",
    "version": 3
   },
   "file_extension": ".py",
   "mimetype": "text/x-python",
   "name": "python",
   "nbconvert_exporter": "python",
   "pygments_lexer": "ipython3",
   "version": "3.10.8"
  },
  "orig_nbformat": 4,
  "vscode": {
   "interpreter": {
    "hash": "23f823caeccb1684f6bd50492b68bb5eab208de0408f39b2457c6a38c0e8e818"
   }
  }
 },
 "nbformat": 4,
 "nbformat_minor": 2
}
